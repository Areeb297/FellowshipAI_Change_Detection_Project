{
  "nbformat": 4,
  "nbformat_minor": 0,
  "metadata": {
    "colab": {
      "provenance": [],
      "machine_shape": "hm",
      "authorship_tag": "ABX9TyNskEUXheVJGa8GOS5YA/+Y",
      "include_colab_link": true
    },
    "kernelspec": {
      "name": "python3",
      "display_name": "Python 3"
    },
    "language_info": {
      "name": "python"
    },
    "gpuClass": "standard",
    "accelerator": "GPU"
  },
  "cells": [
    {
      "cell_type": "markdown",
      "metadata": {
        "id": "view-in-github",
        "colab_type": "text"
      },
      "source": [
        "<a href=\"https://colab.research.google.com/github/Areeb297/FellowshipAI_Change_Detection_Project/blob/main/FellowshipAI_Siamese_Networks_Areeb.ipynb\" target=\"_parent\"><img src=\"https://colab.research.google.com/assets/colab-badge.svg\" alt=\"Open In Colab\"/></a>"
      ]
    },
    {
      "cell_type": "markdown",
      "source": [
        "## Satellite Imagery - Preprocessing"
      ],
      "metadata": {
        "id": "SKIfm8UMwMUv"
      }
    },
    {
      "cell_type": "code",
      "source": [
        "# Import packages\n",
        "import os\n",
        "import glob\n",
        "import zipfile\n",
        "import os, sys\n",
        "from google.colab import drive\n",
        "import torch\n",
        "from PIL import Image\n",
        "import numpy as np\n",
        "from torch.utils.tensorboard import SummaryWriter\n",
        "import pandas as pd\n",
        "import os\n",
        "import torch.nn.functional as F\n",
        "from torch.utils.data import DataLoader\n",
        "import torch\n",
        "import pickle\n",
        "import cv2\n",
        "import numpy as np\n",
        "from torchvision.models import ResNet50_Weights\n",
        "from torchvision import models\n",
        "from torch.utils.data import random_split \n",
        "import copy  \n",
        "from tqdm import tqdm\n",
        "import datetime\n",
        "from torch.utils.data import TensorDataset, ConcatDataset, DataLoader\n",
        "import matplotlib.image as mpimg\n",
        "import matplotlib.pyplot as plt\n",
        "from torch.utils.data import TensorDataset, ConcatDataset, DataLoader\n",
        "import torchvision.transforms as transforms\n",
        "from torchvision.models import ResNet50_Weights\n",
        "from torchvision import models\n",
        "from torchvision.models import ResNet50_Weights\n",
        "\n"
      ],
      "metadata": {
        "id": "gn7Y_EQ7qO_8"
      },
      "execution_count": 2,
      "outputs": []
    },
    {
      "cell_type": "code",
      "source": [
        "drive.mount('/content/drive')"
      ],
      "metadata": {
        "colab": {
          "base_uri": "https://localhost:8080/"
        },
        "id": "hGmrX0hGqBUz",
        "outputId": "c133fc84-3950-4bb7-840e-922cd02e32d3"
      },
      "execution_count": 3,
      "outputs": [
        {
          "output_type": "stream",
          "name": "stdout",
          "text": [
            "Mounted at /content/drive\n"
          ]
        }
      ]
    },
    {
      "cell_type": "code",
      "source": [
        "os.getcwd()"
      ],
      "metadata": {
        "id": "bRojN9IkqFDw",
        "colab": {
          "base_uri": "https://localhost:8080/",
          "height": 35
        },
        "outputId": "37b22432-49e9-46af-efa7-5c7d9f4f1e67"
      },
      "execution_count": 4,
      "outputs": [
        {
          "output_type": "execute_result",
          "data": {
            "text/plain": [
              "'/content'"
            ],
            "application/vnd.google.colaboratory.intrinsic+json": {
              "type": "string"
            }
          },
          "metadata": {},
          "execution_count": 4
        }
      ]
    },
    {
      "cell_type": "code",
      "source": [
        "os.chdir('drive/MyDrive/My_workspace/LEVIR_CD')"
      ],
      "metadata": {
        "id": "va7sw3ds9MNZ"
      },
      "execution_count": 5,
      "outputs": []
    },
    {
      "cell_type": "code",
      "source": [
        "images_train_A = sorted(os.listdir(\"train/A\"))\n",
        "images_train_B = sorted(os.listdir(\"train/B\"))\n",
        "images_train_mask = sorted(os.listdir(\"train/label\"))\n",
        "\n",
        "images_valid_A = sorted(os.listdir(\"val/A\"))\n",
        "images_valid_B = sorted(os.listdir(\"val/B\"))\n",
        "images_valid_mask = sorted(os.listdir(\"val/label\"))"
      ],
      "metadata": {
        "id": "IcdDfLFI9xzy"
      },
      "execution_count": 6,
      "outputs": []
    },
    {
      "cell_type": "code",
      "source": [
        "len(images_train_A)"
      ],
      "metadata": {
        "colab": {
          "base_uri": "https://localhost:8080/"
        },
        "id": "1MZWfIJDuawc",
        "outputId": "c36e4ab0-3364-4bf7-8cde-81d7a0a128a2"
      },
      "execution_count": 7,
      "outputs": [
        {
          "output_type": "execute_result",
          "data": {
            "text/plain": [
              "445"
            ]
          },
          "metadata": {},
          "execution_count": 7
        }
      ]
    },
    {
      "cell_type": "code",
      "source": [
        "len(images_valid_B)"
      ],
      "metadata": {
        "colab": {
          "base_uri": "https://localhost:8080/"
        },
        "id": "vLydQrZSuklc",
        "outputId": "f92b5376-3b08-47d9-b39c-a21ac11e08a5"
      },
      "execution_count": 8,
      "outputs": [
        {
          "output_type": "execute_result",
          "data": {
            "text/plain": [
              "64"
            ]
          },
          "metadata": {},
          "execution_count": 8
        }
      ]
    },
    {
      "cell_type": "code",
      "source": [
        "try:\n",
        "  os.mkdir('resized_images')\n",
        "except:\n",
        "  pass"
      ],
      "metadata": {
        "id": "JyqUWl4D-rW5"
      },
      "execution_count": 9,
      "outputs": []
    },
    {
      "cell_type": "code",
      "source": [
        "def resize_image(path, files, filename):\n",
        "  for i in range(len(files)):\n",
        "    image_path = path + files[i]\n",
        "    img = Image.open(image_path).resize((256, 256))\n",
        "    img.save(os.getcwd() + '/resized_images/' + filename + '/' + files[i])"
      ],
      "metadata": {
        "id": "m1S3GMR-972R"
      },
      "execution_count": 10,
      "outputs": []
    },
    {
      "cell_type": "code",
      "source": [
        "# resize_image(os.getcwd() + '/val/A/',  images_valid_A, filename='val/A')\n",
        "# resize_image(os.getcwd() + '/val/B/',  images_valid_B, filename='val/B')\n",
        "# resize_image(os.getcwd() + '/val/label/',  images_valid_mask, filename='val/label')\n"
      ],
      "metadata": {
        "id": "eNMd5ZbF-Nx2"
      },
      "execution_count": 11,
      "outputs": []
    },
    {
      "cell_type": "code",
      "source": [
        "# resize_image(os.getcwd() + '/train/A/',  images_train_A, filename='train/A')\n",
        "# resize_image(os.getcwd() + '/train/B/',  images_train_B, filename='train/B')\n",
        "# resize_image(os.getcwd() + '/train/label/',  images_train_mask, filename='train/label')\n"
      ],
      "metadata": {
        "id": "gTq76rPKhq6R"
      },
      "execution_count": 12,
      "outputs": []
    },
    {
      "cell_type": "code",
      "source": [
        "\n",
        "\n",
        "# During training, the network would be fed pairs of images - one pre-disaster and one post-disaster - along with a label indicating if the images are similar or dissimilar. \n",
        "# The network would then learn to differentiate between the two types of pairs by adjusting its weights to minimize the loss function.\n",
        "\n",
        "# Dataloader class for Siamese Network Approach\n",
        "\n",
        "# In change detection for disaster data, similar pairs can be created by selecting two images of the same area before and after the disaster event. \n",
        "# These pairs would have similar features and provide positive samples for the Siamese network to learn from.\n",
        "\n",
        "# Dissimilar pairs can be created by selecting two images of different areas before and after the disaster event or selecting one image before the event and one image after the event.\n",
        "# These pairs would have different features and provide negative samples for the Siamese network to learn from.\n",
        "\n",
        "class ImageDataset(torch.utils.data.Dataset):\n",
        "    def __init__(self,\n",
        "                 transform: transforms = None, path = os.getcwd() + '/resized_images', type_data = '/train/', data_1=images_train_A, data_2=images_train_B, label=images_train_mask):\n",
        "\n",
        "        # Get the images   \n",
        "        self.old_data = path + type_data + 'A/'\n",
        "        self.new_data = path + type_data +'B/'    \n",
        "        self.mask_data = path + type_data + 'label/'\n",
        "        self.type_data = type_data\n",
        "\n",
        "        self.data_1 = data_1\n",
        "        self.data_2 = data_2\n",
        "        self.label = label\n",
        "\n",
        "        self.transform = transform\n",
        "        if transform is None:\n",
        "            self.transform = transforms.Compose([\n",
        "                transforms.ToPILImage(),\n",
        "                transforms.Resize(256),\n",
        "                transforms.CenterCrop(256),\n",
        "                transforms.RandomHorizontalFlip(p=0.3),\n",
        "                transforms.ToTensor(),\n",
        "                transforms.Normalize(mean=[0.485, 0.456, 0.406],\n",
        "                                 std=[0.229, 0.224, 0.225]) \n",
        "            ])\n",
        "\n",
        "    def __getitem__(self, index):\n",
        "\n",
        "\n",
        "        if self.type_data == '/valid/':\n",
        "\n",
        "          pre_construction = Image.open(self.old_data + self.data_1[index])\n",
        "          pre_construction = np.array(pre_construction).resize((256, 256))\n",
        "\n",
        "\n",
        "          post_construction = Image.open(self.new_data + self.data_2[index])\n",
        "          post_construction = np.array(post_construction).resize((256, 256))\n",
        "\n",
        "\n",
        "          label = Image.open(self.mask_data + self.label[index])\n",
        "          label = np.array(label).resize((256, 256))\n",
        "\n",
        "        else:\n",
        "\n",
        "          pre_construction = Image.open(self.old_data + self.data_1[index])\n",
        "          pre_construction = np.array(pre_construction)\n",
        "\n",
        "\n",
        "          post_construction = Image.open(self.new_data + self.data_2[index])\n",
        "          post_construction = np.array(post_construction)\n",
        "\n",
        "\n",
        "          label = Image.open(self.mask_data + self.label[index])\n",
        "          label = np.array(label)\n",
        "\n",
        "\n",
        "        # if image.mode != 'RGB':\n",
        "        pre_construction = self.transform(pre_construction).float()\n",
        "        post_construction = self.transform(post_construction).float()\n",
        "        # else:\n",
        "        #   image = self.transform(image)\n",
        "        return pre_construction, post_construction, torch.tensor(label)\n",
        "\n",
        "    def __len__(self):\n",
        "        return len(self.data_1)"
      ],
      "metadata": {
        "id": "I7oUNF-d-RAQ"
      },
      "execution_count": 13,
      "outputs": []
    },
    {
      "cell_type": "code",
      "source": [
        "train_data = ImageDataset()\n",
        "train_data = DataLoader(train_data, batch_size=32, shuffle=True, drop_last=True)\n",
        "\n",
        "valid_data = ImageDataset(type_data = '/val/', data_1=images_valid_A, data_2=images_valid_B, label=images_valid_mask)\n",
        "valid_data = DataLoader(valid_data, batch_size=16, shuffle=False, drop_last=True)"
      ],
      "metadata": {
        "id": "T4v4sisifrua"
      },
      "execution_count": 14,
      "outputs": []
    },
    {
      "cell_type": "code",
      "source": [
        "# Early stopping\n",
        "class EarlyStopping():\n",
        "    \"\"\"This class implements regularization during training using early stopping to prevent overfitting\n",
        "\n",
        "    Args:\n",
        "        patience (int): Number of times validation loss is allowed to increase in a row every epoch or so.\n",
        "    \"\"\"\n",
        "    def __init__(self, patience=3):\n",
        "\n",
        "        self.patience = patience\n",
        "        self.counter = 0\n",
        "        self.early_stop = False\n",
        "\n",
        "    def __call__(self, previous_val_loss, curr_val_loss):\n",
        "        \"\"\"This magic method compares validation losses and adds to counter if loss increases, else resets the counter\n",
        "        everytime an instance of the class is called\n",
        "        \n",
        "        Args:\n",
        "            previous_val_loss (float): The validation loss in previous epoch\n",
        "            curr_val_loss (float): The current validation loss\n",
        "        \"\"\"\n",
        "        if curr_val_loss >= previous_val_loss:\n",
        "            self.counter +=1\n",
        "            if self.counter >= self.patience:  \n",
        "                self.early_stop = True\n",
        "        else:\n",
        "            self.counter = 0\n",
        "\n",
        "\n",
        "\n",
        "# def calculate_accuracy(model, data_loader):\n",
        "#     model.eval()\n",
        "#     correct = 0\n",
        "#     total = 0\n",
        "#     with torch.no_grad():\n",
        "#         for i, (image1, image2, label) in enumerate(data_loader):\n",
        "#             image1, image2, label = image1.to(device), image2.to(device), label.to(device)\n",
        "#             output = model(image1, image2)\n",
        "#             y_pred = output.flatten()\n",
        "\n",
        "\n",
        "#             indices = np.nonzero(label.flatten())[0]\n",
        "#             y_pred_mask = y_pred[indices]\n",
        "\n",
        "\n",
        "#             correct += np.mean(y_pred_mask)\n",
        "\n",
        "#             total += len(indices)\n",
        "\n",
        "#         accuracy = correct / total\n",
        "    \n",
        "#     return accuracy\n",
        "\n",
        "def pixel_wise_accuracy(output, label):\n",
        "    output = (output > 0.5).float()\n",
        "    correct = (output == label).float().sum()\n",
        "    total = label.numel()\n",
        "    accuracy = float(correct) / float(total)\n",
        "    return accuracy\n",
        "\n",
        "def validation(model, device, valid_loader, loss_function, threshold=0.5):\n",
        "    \"\"\"This function uses the CNN model to evaluate the loss on the validation data every certain epochs\n",
        "\n",
        "    Args:\n",
        "        model (Model): CNN model \n",
        "        device (device): Whether we are working on GPU or CPU\n",
        "        valid_loader (DataLoader): Validation data\n",
        "        loss_function (torch.nn.Module): To evaluate loss of our predictions\n",
        "\n",
        "    Returns:\n",
        "        float: The average validation loss every epoch\n",
        "    \"\"\"\n",
        "    hist_val_acc = []\n",
        "    model.eval() # it tells your model that you are testing the model\n",
        "    loss_total = 0\n",
        "    hist_val_loss = []\n",
        "\n",
        "    # Test validation data\n",
        "    with torch.no_grad(): # Deactivate autograd, requires_grad is set to False, do not calculate gradients of new variables as we testing only\n",
        "        print('\\n')\n",
        "        progress_bar = tqdm(enumerate(valid_loader), total=len(valid_loader))\n",
        "        for _, (image1, image2, labels) in progress_bar:\n",
        "            image1, image2, labels = image1.to(device), image2.to(device), labels.to(device)\n",
        "            output = model(image1, image2)\n",
        "\n",
        "            # if output.size() == torch.Size([16, 1, 256, 256]):\n",
        "            # output = output.unsqueeze(0).resize(10, 1, 256, 256)\n",
        "            labels = labels.unsqueeze(0).resize(16, 1, 256, 256)\n",
        "\n",
        "            loss = loss_function(output.squeeze(0).float(), labels.float())\n",
        "\n",
        "\n",
        "            acc = iou_accuracy(output, labels)\n",
        "            # acc = pixel_wise_accuracy(output, labels)\n",
        "\n",
        "            # y_pred = output.flatten()\n",
        "\n",
        "            # indices = np.nonzero(labels.flatten())[0]\n",
        "            # y_pred_mask = y_pred[indices]\n",
        "\n",
        "            # accuracy = np.mean(y_pred_mask)\n",
        "\n",
        "            hist_val_acc.append(acc)\n",
        "            hist_val_loss.append(loss.item())\n",
        "            progress_bar.set_description(f\"Validation metrics: acc = {round(float(acc), 2)}. mean_val_acc = {round(np.mean(hist_val_acc), 2)}. mean_val_loss = {round(np.mean(hist_val_loss), 2)}\")\n",
        "            loss_total += loss.item()\n",
        "\n",
        "    return loss_total / len(valid_loader), round(np.mean(hist_val_acc), 2)"
      ],
      "metadata": {
        "id": "98cDMRXQfw--"
      },
      "execution_count": 15,
      "outputs": []
    },
    {
      "cell_type": "code",
      "source": [
        "def save_model(epoch, model, optimiser, val_acc, loss, weights_path):\n",
        "    \"\"\"This function changes model to cpu mode, saves the model weights, epoch we reached, optimizer details,\n",
        "    validation accuracy and the training loss so we can restore any model if we want to explore and compare results later on.\n",
        "\n",
        "    Args:\n",
        "        epoch (int): Number of epoch we reached at the end of training\n",
        "        model (torchvision.models): Model our training function returned\n",
        "        optimiser (torch.optim): Optimiser we used to train\n",
        "        val_acc (float): Average validation accuracy per epoch at the end of training\n",
        "        loss (float): Average training loss per epoch \n",
        "        weights_path (str): The path to the weights folder contained in the model evaluation directory\n",
        "\n",
        "    \"\"\"\n",
        "    \n",
        "    model.to('cpu')\n",
        "    torch.save({\n",
        "        'epoch': epoch,\n",
        "        'model_state_dict': copy.deepcopy(model.state_dict()),\n",
        "        'optimizer_state_dict': optimiser.state_dict(),\n",
        "        'validation_acc': val_acc,\n",
        "        'training+loss': loss}, os.path.join(weights_path, f'epoch_{epoch}_results'))\n",
        "    \n",
        "    \n",
        "import torch\n",
        "import torch.nn.functional as F\n",
        "\n",
        "\n",
        "# def contrastive_loss(output, label, margin=1.0):\n",
        "#     \"\"\"\n",
        "#     Contrastive loss function for Siamese networks with a binary mask label.\n",
        "    \n",
        "#     Arguments:\n",
        "#     output_1 -- output embeddings for first image, as a PyTorch tensor of shape (batch_size, embedding_dim)\n",
        "#     output_2 -- output embeddings for second image, as a PyTorch tensor of shape (batch_size, embedding_dim)\n",
        "#     label -- binary mask label, as a PyTorch tensor of shape (batch_size, height, width, channels)\n",
        "#     margin -- margin used to separate the positive and negative pairs, as a float\n",
        "    \n",
        "#     Returns:\n",
        "#     loss_contrastive -- contrastive loss value, as a PyTorch scalar tensor\n",
        "#     \"\"\"\n",
        "\n",
        "#     # Compute Euclidean distance between the embeddings\n",
        "#     # euclidean_distance = F.pairwise_distance(output_1, output_2, keepdim=True.view(1, 32)\n",
        "\n",
        "#     # Compute contrastive loss\n",
        "#     loss_contrastive = label * torch.pow(output, 2) + (1 - label) * torch.pow(torch.clamp(margin - output, min=0.0), 2)\n",
        "#     loss_contrastive = torch.mean(loss_contrastive)\n",
        "\n",
        "#     return loss_contrastive\n",
        "\n",
        "# Sure, here's the PyTorch implementation of the Siamese network class for change detection:\n",
        "\n",
        "# python\n",
        "\n",
        "import torch\n",
        "import torch.nn as nn\n",
        "import torch.nn.functional as F\n",
        "from torch.optim import Adam\n",
        "from torchvision import models\n",
        "\n",
        "\n",
        "        \n",
        "\n",
        "# class Classifier(nn.Module):\n",
        "#     def __init__(self):\n",
        "#         super(Classifier, self).__init__()\n",
        "\n",
        "\n",
        "#         self.main = torch.nn.Sequential(\n",
        "            \n",
        "#             nn.Conv2d(3, 16, kernel_size=3, stride=2),\n",
        "#             nn.ReLU(),\n",
        "#             nn.MaxPool2d(kernel_size=2),\n",
        "#             nn.Dropout(p=0.2),\n",
        "#             nn.Conv2d(16, 64, kernel_size=3),\n",
        "#             nn.ReLU(),\n",
        "#             nn.MaxPool2d(kernel_size=3),\n",
        "#             nn.Dropout(p=0.2),\n",
        "#             nn.ReLU()\n",
        "\n",
        "#         )\n",
        "\n",
        "#         self.fc = nn.Linear(256, 1)\n",
        "        \n",
        "#     def forward_once(self, x):\n",
        "#         x = self.main(x)\n",
        "#         return x\n",
        "\n",
        "#     def forward(self, x1, x2):\n",
        "#         out1 = self.forward_once(x1)\n",
        "#         out2 = self.forward_once(x2)\n",
        "\n",
        "#         dist = torch.abs(out1 - out2)\n",
        "#         out = self.fc(dist)\n",
        "\n",
        "#         return out\n",
        "\n",
        "# class Classifier(nn.Module):\n",
        "#     \"\"\"SiamUnet_conc segmentation network.\"\"\"\n",
        "\n",
        "#     def __init__(self, input_nbr, label_nbr):\n",
        "#         super(Classifier, self).__init__()\n",
        "\n",
        "#         self.input_nbr = input_nbr\n",
        "\n",
        "#         self.conv11 = nn.Conv2d(input_nbr, 16, kernel_size=3, padding=1)\n",
        "#         self.bn11 = nn.BatchNorm2d(16)\n",
        "#         self.do11 = nn.Dropout2d(p=0.2)\n",
        "#         self.conv12 = nn.Conv2d(16, 16, kernel_size=3, padding=1)\n",
        "#         self.bn12 = nn.BatchNorm2d(16)\n",
        "#         self.do12 = nn.Dropout2d(p=0.2)\n",
        "\n",
        "#         self.conv21 = nn.Conv2d(16, 32, kernel_size=3, padding=1)\n",
        "#         self.bn21 = nn.BatchNorm2d(32)\n",
        "#         self.do21 = nn.Dropout2d(p=0.2)\n",
        "#         self.conv22 = nn.Conv2d(32, 32, kernel_size=3, padding=1)\n",
        "#         self.bn22 = nn.BatchNorm2d(32)\n",
        "#         self.do22 = nn.Dropout2d(p=0.2)\n",
        "\n",
        "#         self.conv31 = nn.Conv2d(32, 64, kernel_size=3, padding=1)\n",
        "#         self.bn31 = nn.BatchNorm2d(64)\n",
        "#         self.do31 = nn.Dropout2d(p=0.2)\n",
        "#         self.conv32 = nn.Conv2d(64, 64, kernel_size=3, padding=1)\n",
        "#         self.bn32 = nn.BatchNorm2d(64)\n",
        "#         self.do32 = nn.Dropout2d(p=0.2)\n",
        "#         self.conv33 = nn.Conv2d(64, 64, kernel_size=3, padding=1)\n",
        "#         self.bn33 = nn.BatchNorm2d(64)\n",
        "#         self.do33 = nn.Dropout2d(p=0.2)\n",
        "\n",
        "#         self.conv41 = nn.Conv2d(64, 128, kernel_size=3, padding=1)\n",
        "#         self.bn41 = nn.BatchNorm2d(128)\n",
        "#         self.do41 = nn.Dropout2d(p=0.2)\n",
        "#         self.conv42 = nn.Conv2d(128, 128, kernel_size=3, padding=1)\n",
        "#         self.bn42 = nn.BatchNorm2d(128)\n",
        "#         self.do42 = nn.Dropout2d(p=0.2)\n",
        "#         self.conv43 = nn.Conv2d(128, 128, kernel_size=3, padding=1)\n",
        "#         self.bn43 = nn.BatchNorm2d(128)\n",
        "#         self.do43 = nn.Dropout2d(p=0.2)\n",
        "\n",
        "#         self.upconv4 = nn.ConvTranspose2d(128, 128, kernel_size=3, padding=1, stride=2, output_padding=1)\n",
        "\n",
        "#         self.conv43d = nn.ConvTranspose2d(384, 128, kernel_size=3, padding=1)\n",
        "#         self.bn43d = nn.BatchNorm2d(128)\n",
        "#         self.do43d = nn.Dropout2d(p=0.2)\n",
        "#         self.conv42d = nn.ConvTranspose2d(128, 128, kernel_size=3, padding=1)\n",
        "#         self.bn42d = nn.BatchNorm2d(128)\n",
        "#         self.do42d = nn.Dropout2d(p=0.2)\n",
        "#         self.conv41d = nn.ConvTranspose2d(128, 64, kernel_size=3, padding=1)\n",
        "#         self.bn41d = nn.BatchNorm2d(64)\n",
        "#         self.do41d = nn.Dropout2d(p=0.2)\n",
        "\n",
        "#         self.upconv3 = nn.ConvTranspose2d(64, 64, kernel_size=3, padding=1, stride=2, output_padding=1)\n",
        "\n",
        "#         self.conv33d = nn.ConvTranspose2d(192, 64, kernel_size=3, padding=1)\n",
        "#         self.bn33d = nn.BatchNorm2d(64)\n",
        "#         self.do33d = nn.Dropout2d(p=0.2)\n",
        "#         self.conv32d = nn.ConvTranspose2d(64, 64, kernel_size=3, padding=1)\n",
        "#         self.bn32d = nn.BatchNorm2d(64)\n",
        "#         self.do32d = nn.Dropout2d(p=0.2)\n",
        "#         self.conv31d = nn.ConvTranspose2d(64, 32, kernel_size=3, padding=1)\n",
        "#         self.bn31d = nn.BatchNorm2d(32)\n",
        "#         self.do31d = nn.Dropout2d(p=0.2)\n",
        "\n",
        "#         self.upconv2 = nn.ConvTranspose2d(32, 32, kernel_size=3, padding=1, stride=2, output_padding=1)\n",
        "\n",
        "#         self.conv22d = nn.ConvTranspose2d(96, 32, kernel_size=3, padding=1)\n",
        "#         self.bn22d = nn.BatchNorm2d(32)\n",
        "#         self.do22d = nn.Dropout2d(p=0.2)\n",
        "#         self.conv21d = nn.ConvTranspose2d(32, 16, kernel_size=3, padding=1)\n",
        "#         self.bn21d = nn.BatchNorm2d(16)\n",
        "#         self.do21d = nn.Dropout2d(p=0.2)\n",
        "\n",
        "#         self.upconv1 = nn.ConvTranspose2d(16, 16, kernel_size=3, padding=1, stride=2, output_padding=1)\n",
        "\n",
        "#         self.conv12d = nn.ConvTranspose2d(48, 16, kernel_size=3, padding=1)\n",
        "#         self.bn12d = nn.BatchNorm2d(16)\n",
        "#         self.do12d = nn.Dropout2d(p=0.2)\n",
        "#         self.conv11d = nn.ConvTranspose2d(16, label_nbr, kernel_size=3, padding=1)\n",
        "\n",
        "#         self.sm = nn.LogSoftmax(dim=1)\n",
        "\n",
        "#     def forward(self, x1, x2):\n",
        "\n",
        "#         \"\"\"Forward method.\"\"\"\n",
        "#         # Stage 1\n",
        "#         x11 = self.do11(F.relu(self.bn11(self.conv11(x1))))\n",
        "#         x12_1 = self.do12(F.relu(self.bn12(self.conv12(x11))))\n",
        "#         x1p = F.max_pool2d(x12_1, kernel_size=2, stride=2)\n",
        "\n",
        "\n",
        "#         # Stage 2\n",
        "#         x21 = self.do21(F.relu(self.bn21(self.conv21(x1p))))\n",
        "#         x22_1 = self.do22(F.relu(self.bn22(self.conv22(x21))))\n",
        "#         x2p = F.max_pool2d(x22_1, kernel_size=2, stride=2)\n",
        "\n",
        "#         # Stage 3\n",
        "#         x31 = self.do31(F.relu(self.bn31(self.conv31(x2p))))\n",
        "#         x32 = self.do32(F.relu(self.bn32(self.conv32(x31))))\n",
        "#         x33_1 = self.do33(F.relu(self.bn33(self.conv33(x32))))\n",
        "#         x3p = F.max_pool2d(x33_1, kernel_size=2, stride=2)\n",
        "\n",
        "#         # Stage 4\n",
        "#         x41 = self.do41(F.relu(self.bn41(self.conv41(x3p))))\n",
        "#         x42 = self.do42(F.relu(self.bn42(self.conv42(x41))))\n",
        "#         x43_1 = self.do43(F.relu(self.bn43(self.conv43(x42))))\n",
        "#         x4p = F.max_pool2d(x43_1, kernel_size=2, stride=2)\n",
        "\n",
        "\n",
        "#         ####################################################\n",
        "#         # Stage 1\n",
        "#         x11 = self.do11(F.relu(self.bn11(self.conv11(x2))))\n",
        "#         x12_2 = self.do12(F.relu(self.bn12(self.conv12(x11))))\n",
        "#         x1p = F.max_pool2d(x12_2, kernel_size=2, stride=2)\n",
        "\n",
        "#         # Stage 2\n",
        "#         x21 = self.do21(F.relu(self.bn21(self.conv21(x1p))))\n",
        "#         x22_2 = self.do22(F.relu(self.bn22(self.conv22(x21))))\n",
        "#         x2p = F.max_pool2d(x22_2, kernel_size=2, stride=2)\n",
        "\n",
        "#         # Stage 3\n",
        "#         x31 = self.do31(F.relu(self.bn31(self.conv31(x2p))))\n",
        "#         x32 = self.do32(F.relu(self.bn32(self.conv32(x31))))\n",
        "#         x33_2 = self.do33(F.relu(self.bn33(self.conv33(x32))))\n",
        "#         x3p = F.max_pool2d(x33_2, kernel_size=2, stride=2)\n",
        "\n",
        "#         # Stage 4\n",
        "#         x41 = self.do41(F.relu(self.bn41(self.conv41(x3p))))\n",
        "#         x42 = self.do42(F.relu(self.bn42(self.conv42(x41))))\n",
        "#         x43_2 = self.do43(F.relu(self.bn43(self.conv43(x42))))\n",
        "#         x4p = F.max_pool2d(x43_2, kernel_size=2, stride=2)\n",
        "\n",
        "\n",
        "#         ####################################################\n",
        "#         # Stage 4d\n",
        "#         x4d = self.upconv4(x4p)\n",
        "#         pad4 = ReplicationPad2d((0, x43_1.size(3) - x4d.size(3), 0, x43_1.size(2) - x4d.size(2)))\n",
        "#         x4d = torch.cat((pad4(x4d), x43_1, x43_2), 1)\n",
        "#         x43d = self.do43d(F.relu(self.bn43d(self.conv43d(x4d))))\n",
        "#         x42d = self.do42d(F.relu(self.bn42d(self.conv42d(x43d))))\n",
        "#         x41d = self.do41d(F.relu(self.bn41d(self.conv41d(x42d))))\n",
        "\n",
        "#         # Stage 3d\n",
        "#         x3d = self.upconv3(x41d)\n",
        "#         pad3 = ReplicationPad2d((0, x33_1.size(3) - x3d.size(3), 0, x33_1.size(2) - x3d.size(2)))\n",
        "#         x3d = torch.cat((pad3(x3d), x33_1, x33_2), 1)\n",
        "#         x33d = self.do33d(F.relu(self.bn33d(self.conv33d(x3d))))\n",
        "#         x32d = self.do32d(F.relu(self.bn32d(self.conv32d(x33d))))\n",
        "#         x31d = self.do31d(F.relu(self.bn31d(self.conv31d(x32d))))\n",
        "\n",
        "#         # Stage 2d\n",
        "#         x2d = self.upconv2(x31d)\n",
        "#         pad2 = ReplicationPad2d((0, x22_1.size(3) - x2d.size(3), 0, x22_1.size(2) - x2d.size(2)))\n",
        "#         x2d = torch.cat((pad2(x2d), x22_1, x22_2), 1)\n",
        "#         x22d = self.do22d(F.relu(self.bn22d(self.conv22d(x2d))))\n",
        "#         x21d = self.do21d(F.relu(self.bn21d(self.conv21d(x22d))))\n",
        "\n",
        "#         # Stage 1d\n",
        "#         x1d = self.upconv1(x21d)\n",
        "#         pad1 = ReplicationPad2d((0, x12_1.size(3) - x1d.size(3), 0, x12_1.size(2) - x1d.size(2)))\n",
        "#         x1d = torch.cat((pad1(x1d), x12_1, x12_2), 1)\n",
        "#         x12d = self.do12d(F.relu(self.bn12d(self.conv12d(x1d))))\n",
        "#         x11d = self.conv11d(x12d)\n",
        "\n",
        "#         #Softmax layer is embedded in the loss layer\n",
        "#         #out = self.sm(x11d)\n",
        "#         output = []\n",
        "#         output.append(x11d)\n",
        "\n",
        "#         return output\n",
        "\n",
        "\n",
        "\n",
        "\n",
        "\n",
        "\n",
        "# import torch\n",
        "# import torch.nn as nn\n",
        "# import torch.nn.functional as F\n",
        "# import torch\n",
        "# import torch.nn as nn\n",
        "# import torch.nn.functional as F\n",
        "\n",
        "\n",
        "# class SiameseNetwork(nn.Module):\n",
        "#     def __init__(self):\n",
        "#         super(SiameseNetwork, self).__init__()\n",
        "\n",
        "#         # Load the ResNet50 model pre-trained on ImageNet\n",
        "#         self.resnet = models.resnet50(weights=ResNet50_Weights.DEFAULT)\n",
        "\n",
        "                \n",
        "#         for param in self.resnet.parameters(): \n",
        "#             param.requires_grad = False\n",
        "#         # unfreeze last layer params\n",
        "#         for param in self.resnet.fc.parameters():\n",
        "#             param.requires_grad = True\n",
        "\n",
        "\n",
        "#         # Replace the last layer with a 1x1 convolutional layer\n",
        "#         # to reduce the number of channels to 3\n",
        "#         self.resnet.fc = nn.Conv2d(2048, 3, kernel_size=1)\n",
        "#         self.conv0 = nn.Conv2d(2048, 3, kernel_size=1)\n",
        "\n",
        "        \n",
        "#         self.conv1 = nn.Conv2d(3, 32, kernel_size=7, stride=2, padding=3, bias=False)\n",
        "#         self.conv2 = nn.Conv2d(32, 64, kernel_size=3, padding=1)\n",
        "\n",
        "#         self.fc1 = nn.Linear(1024, 256)\n",
        "\n",
        "#         self.fc11 = nn.Linear(832, 256)\n",
        "\n",
        "#         self.deconv1 = nn.ConvTranspose2d(256, 128, kernel_size=30, stride=2)\n",
        "#         self.deconv2 = nn.ConvTranspose2d(128, 64, kernel_size=52, stride=2)\n",
        "#         self.deconv3 = nn.ConvTranspose2d(64, 1, kernel_size=38, stride=2)\n",
        "\n",
        "\n",
        "#         modules = list(self.resnet.children())[:-2]\n",
        "#         self.resnet = nn.Sequential(*modules)\n",
        "        \n",
        "#     def forward_once(self, x):\n",
        "\n",
        "#         x = self.resnet(x)\n",
        "#         x = torch.sigmoid(self.conv0(x))\n",
        "\n",
        "#         x = F.relu(self.conv1(x))\n",
        "#         x = F.max_pool2d(x, 2)\n",
        "#         x = F.relu(self.conv2(x))\n",
        "#         x = F.max_pool2d(x, 2)\n",
        "\n",
        "#         try:\n",
        "\n",
        "#           x = x.view(-1, 1024)\n",
        "#           x = F.relu(self.fc1(x))\n",
        "#           x = x.view(256, 1, 1)\n",
        "\n",
        "#           x = F.relu(self.deconv1(x))\n",
        "#           x = F.relu(self.deconv2(x))\n",
        "#           x = F.relu(self.deconv3(x))\n",
        "\n",
        "\n",
        "#           x = x.view(1, 256, 256)\n",
        "\n",
        "#         except:\n",
        "\n",
        "#           x = x.view(-1, 832)\n",
        "#           x = F.relu(self.fc11(x))\n",
        "#           x = x.view(-1, 256, 1, 1)\n",
        "\n",
        "#           x = F.relu(self.deconv1(x))\n",
        "#           x = F.relu(self.deconv2(x))\n",
        "#           x = F.relu(self.deconv3(x))\n",
        "\n",
        "\n",
        "#           x = x.view(-1, 1, 256, 256)\n",
        " \n",
        "        \n",
        "#         return x\n",
        "\n",
        "  \n",
        "#     def forward(self, x1, x2):\n",
        "#         output1 = self.forward_once(x1)\n",
        "#         output2 = self.forward_once(x2)\n",
        "#         return torch.abs(output1 - output2)\n",
        "\n",
        "\n",
        "\n",
        "class UNetDecoder(nn.Module):\n",
        "    def __init__(self, in_channels, out_channels):\n",
        "        super(UNetDecoder, self).__init__()\n",
        "        self.up = nn.ConvTranspose2d(in_channels, out_channels, kernel_size=2, stride=2)\n",
        "        self.conv1 = nn.Conv2d(in_channels, out_channels, kernel_size=3, padding=1)\n",
        "        self.conv2 = nn.Conv2d(out_channels, out_channels, kernel_size=3, padding=1)\n",
        "\n",
        "    def forward(self, x1, x2):\n",
        "        x1 = self.up(x1)\n",
        "        x = torch.cat([x2, x1], dim=1)\n",
        "        x = nn.ReLU(inplace=True)(self.conv1(x))\n",
        "        x = nn.ReLU(inplace=True)(self.conv2(x))\n",
        "        return x\n",
        "\n",
        "\n",
        "# class SiameseNetwork(nn.Module):\n",
        "#     def __init__(self, base_model):\n",
        "#         super(SiameseNetwork, self).__init__()\n",
        "#         self.base_model = base_model\n",
        "#         self.decoder = nn.Sequential(\n",
        "#             UNetDecoder(2048, 1024),\n",
        "#             UNetDecoder(1024, 512),\n",
        "#             UNetDecoder(512, 256),\n",
        "#             UNetDecoder(256, 128),\n",
        "#             nn.Conv2d(128, 1, 1)\n",
        "#         )\n",
        "\n",
        "#     def forward(self, input1, input2):\n",
        "#         output1 = self.base_model(input1)\n",
        "#         output2 = self.base_model(input2)\n",
        "#         x = torch.cat([output1, output2], dim=1)\n",
        "#         x = self.decoder(x)\n",
        "#         return x\n",
        "\n",
        "\n",
        "# base_model = models.googlenet(pretrained=True)\n",
        "# base_model = nn.Sequential(*list(base_model.children())[:-1])\n",
        "\n",
        "\n",
        "class CustomClassifier(nn.Sequential):\n",
        "    def __init__(self, in_channels, out_channels):\n",
        "        super().__init__(\n",
        "            nn.Conv2d(in_channels, out_channels, kernel_size=1, stride=1),\n",
        "            nn.Upsample(size=(256, 256), mode='bilinear', align_corners=True)\n",
        "        )\n",
        "\n",
        "\n",
        "# class SiameseNetwork(nn.Module):\n",
        "#     def __init__(self, base_model):\n",
        "#         super(SiameseNetwork, self).__init__()\n",
        "#         self.encoder = nn.Sequential(*list(base_model.children())[:-1])\n",
        "#         self.up = nn.Upsample(size=(256, 256), mode='bilinear', align_corners=True)\n",
        "#         self.decoder1 = UNetDecoder(2048, 1024)\n",
        "#         self.decoder2 = UNetDecoder(1024, 512)\n",
        "#         self.decoder3 = UNetDecoder(512, 256)\n",
        "#         self.decoder4 = UNetDecoder(256, 128)\n",
        "#         self.final_conv = nn.Conv2d(128, 1, kernel_size=1)\n",
        "\n",
        "#     def forward(self, input1, input2):\n",
        "#         output1 = self.encoder(input1)\n",
        "#         output2 = self.encoder(input2)\n",
        "        \n",
        "#         output1 = self.up(output1)\n",
        "#         output2 = self.up(output2)\n",
        "        \n",
        "#         x = torch.cat([output1, output2], dim=1)\n",
        "        \n",
        "#         x = self.decoder1(x, output1)\n",
        "#         x = self.decoder2(x, output2)\n",
        "#         x = self.decoder3(x, output1)\n",
        "#         x = self.decoder4(x, output2)\n",
        "        \n",
        "#         x = self.final_conv(x)\n",
        "#         return x\n",
        "\n",
        "\n",
        "class UNetDecoder(nn.Module):\n",
        "    def __init__(self, in_channels, out_channels):\n",
        "        super(UNetDecoder, self).__init__()\n",
        "        self.up = nn.ConvTranspose2d(in_channels, out_channels, kernel_size=2, stride=2)\n",
        "        self.conv1 = nn.Conv2d(in_channels, out_channels, kernel_size=3, padding=1)\n",
        "        self.conv2 = nn.Conv2d(out_channels, out_channels, kernel_size=3, padding=1)\n",
        "\n",
        "    def forward(self, x1, x2):\n",
        "        x1 = self.up(x1)\n",
        "        x = torch.cat([x2, x1], dim=1)\n",
        "        x = nn.ReLU(inplace=True)(self.conv1(x))\n",
        "        x = nn.ReLU(inplace=True)(self.conv2(x))\n",
        "        return x\n",
        "\n",
        "\n",
        "# Define Siamese network architecture\n",
        "class SiameseNetwork(nn.Module):\n",
        "    def __init__(self):\n",
        "        super(SiameseNetwork, self).__init__()\n",
        "\n",
        "        # # Load the pre-trained ResNet50 model\n",
        "        # self.resnet = models.resnet50(pretrained=True)\n",
        "\n",
        "        # # Replace the fully connected layer with a new layer with the appropriate number of output channels\n",
        "        # self.resnet.fc = nn.Linear(resnet.fc.in_features, 256 * 256)\n",
        "\n",
        "\n",
        "        # Load the pre-trained DenseNet model\n",
        "        # self.densenet = models.densenet121(pretrained=True)\n",
        "\n",
        "\n",
        "        self.base_model = models.googlenet(pretrained=True)\n",
        "        binary_classifier = CustomClassifier(in_channels=1024, out_channels=64)\n",
        "        self.base_model = nn.Sequential(*list(self.base_model.children())[:-1])\n",
        "        self.base_model.classifier = binary_classifier\n",
        "      \n",
        "\n",
        "\n",
        "        # self.decoder = nn.Sequential(\n",
        "        #     UNetDecoder(2048, 1024),\n",
        "        #     UNetDecoder(1024, 512),\n",
        "        #     UNetDecoder(512, 256),\n",
        "        #     UNetDecoder(256, 128),\n",
        "        #     nn.Conv2d(128, 1, 1)\n",
        "        # )\n",
        "\n",
        "        # self.decoder1 = UNetDecoder(1024, 512)\n",
        "        # self.decoder2 = UNetDecoder(1024, 256)\n",
        "        # self.decoder3 = UNetDecoder(512, 128)\n",
        "        # self.decoder4 = UNetDecoder(256, 64)\n",
        "        self.final_conv = nn.Conv2d(64*2, 1, kernel_size=1)\n",
        "\n",
        "\n",
        "        # self.deeplab = models.segmentation.deeplabv3_resnet50(pretrained=True, progress=True, num_classes=21)\n",
        "        # binary_classifier = CustomClassifier(in_channels=2048, out_channels=1)\n",
        "        # self.deeplab.classifier = binary_classifier\n",
        "\n",
        "        # self.deeplab = models.segmentation.DeepLabV3(models.resnet.resnet50(pretrained=True), self.deeplab.classifier)\n",
        "        # self.conv = nn.Conv2d(21, 1, kernel_size=1, stride=1)\n",
        "        self.upsample = nn.Upsample(size=(256, 256), mode='bilinear', align_corners=True)\n",
        "\n",
        "        # self.batch_norm = nn.BatchNorm2d(num_features=1)\n",
        "\n",
        "\n",
        "        # # Remove the fully connected layer from the model\n",
        "        # modules = list(self.densenet.children())[:-1]\n",
        "        # self.densenet = nn.Sequential(*modules)\n",
        "\n",
        "        # # Add additional layers to transform the output tensor to an image\n",
        "        # self.densenet.add_module('flatten', nn.Flatten())\n",
        "            \n",
        "        # # # Load pre-trained VGG16 model\n",
        "        # # self.vgg_model = models.vgg16(pretrained=True)\n",
        "\n",
        "        # # Remove the fully connected layer\n",
        "        # # self.vgg_model.classifier = nn.Sequential(*list(self.vgg_model.classifier.children())[:-1])\n",
        "        # # self.vgg_model.classifier.add_module('final_fc', nn.Linear(4096, 256 * 256))\n",
        "        \n",
        "        # # Make the VGG16 model layers trainable\n",
        "        # for param in self.densenet.parameters():\n",
        "        #     param.requires_grad = False\n",
        "\n",
        "        # self.conv = nn.Conv2d(in_channels=1, out_channels=1, kernel_size=3, stride=1, padding=1)\n",
        "        # self.relu = nn.ReLU()\n",
        "        # self.leaky_relu = nn.LeakyReLU(negative_slope=0.1)\n",
        "        self.dropout = nn.Dropout(p=0.3)\n",
        "        self.sigmoid = nn.Sigmoid()\n",
        "\n",
        "        # Add a convolutional layer to reduce the number of channels to 1\n",
        "        # self.vgg_model.classifier.add_module('conv', nn.Conv2d(512, 1, kernel_size=1))\n",
        "\n",
        "\n",
        "        # Define a deconvolution layer to upsample the feature maps\n",
        "        # self.deconv_layer = nn.ConvTranspose2d(in_channels=4096, out_channels=1, kernel_size=32, stride=16, padding=8)\n",
        "        # self.upsample_layer = nn.ConvTranspose2d(in_channels=1, out_channels=1, kernel_size=5, stride=7, padding=1, output_padding=1)\n",
        "\n",
        "\n",
        "\n",
        "    def forward(self, x1, x2):\n",
        "\n",
        "        # features1 = self.deeplab(x1)['out']\n",
        "        # features1 = self.batch_norm(self.conv(features1))\n",
        "        # features1 = self.upsample(features1).view(features1.shape[0], 1, 256, 256)\n",
        "        # features1 = self.relu(self.dropout(features1))\n",
        "\n",
        "\n",
        "\n",
        "        # features2 = self.deeplab(x2)['out']\n",
        "        # features2 = self.batch_norm(self.conv(features2))\n",
        "        # features2 = self.upsample(features2).view(features2.shape[0], 1, 256, 256)\n",
        "        # features2 = self.relu(self.dropout(features2))\n",
        "\n",
        "        # Extract features from the two input images using the VGG16 model\n",
        "        # features1 = self.densenet(x1)\n",
        "        # features1 = self.relu(self.conv(features1.view(x1.shape[0], 1, 256, 256)))\n",
        "        # features1 = self.leaky_relu(self.conv(features1.view(x1.shape[0], 1, 256, 256)))\n",
        "\n",
        "      \n",
        "        # features1 = self.upsample_layer(features1)\n",
        "        # features1 = features1[:, :256, :256]\n",
        "\n",
        "        # features1 = features1.view(1, 256, 256)\n",
        "        # features1 = upsample_layer(features1)\n",
        "        # features1 = features1.view(1, 256, 256)\n",
        "        # features1 = self.upsample_layer(self.deconv_layer(features1))\n",
        "        # features1 = features1.view(1, 256, 256)\n",
        "\n",
        "        # features2 = self.densenet(x2)\n",
        "        # features2 = features2.view(1, 512, 40)\n",
        "        # upsample_layer = nn.ConvTranspose2d(in_channels=1, out_channels=1, kernel_size=2, stride=3, padding=1, output_padding=1)\n",
        "        # features2 = self.upsample_layer(features2)\n",
        "        # features2 = features2[:, :256, :256]\n",
        "        \n",
        "        # features2 = self.relu(self.conv(features2.view(x2.shape[0], 1, 256, 256)))\n",
        "        # features2 = self.leaky_relu(self.conv(features2.view(x2.shape[0], 1, 256, 256)))\n",
        "          # features2 = upsample_layer(features2)\n",
        "        # features2 = features2.view(1, 256, 256)\n",
        "          \n",
        "        # features2 = self.upsample_layer(self.deconv_layer(features2))\n",
        "        # features2 = features2.view(1, 256, 256)\n",
        "\n",
        "        # Compute the absolute difference between the feature maps\n",
        "\n",
        "        features1 = self.upsample(self.base_model(x1))\n",
        "        features2 = self.upsample(self.base_model(x2))\n",
        "\n",
        "        x = torch.cat([features1, features2], dim=1)\n",
        "        \n",
        "        # x = self.decoder1(x, features1)\n",
        "        # x = self.decoder2(x, features2)\n",
        "        # x = self.decoder3(x, features1)\n",
        "        # x = self.decoder4(x, features2)\n",
        "        \n",
        "        x = self.final_conv(x)\n",
        "        # diff = torch.abs(features1 - features2)\n",
        "\n",
        "        # Upsample the feature maps using deconvolution\n",
        "        # upsampled = self.deconv_layer(diff)\n",
        "\n",
        "        # Apply a sigmoid activation function to obtain a pixel-wise binary mask\n",
        "        # features1 = features1.view(features1.size()[0], 256, 256, 1)\n",
        "        # features2 = features2.view(features2.size()[0], 256, 256, 1)\n",
        "        # diff = F.pairwise_distance(features1, features2)\n",
        "        mask = self.sigmoid(x)\n",
        "\n",
        "        return mask\n",
        "\n",
        "\n",
        "class DiceLoss(nn.Module):\n",
        "    def __init__(self, smooth=1):\n",
        "        super(DiceLoss, self).__init__()\n",
        "        self.smooth = smooth\n",
        "\n",
        "    def forward(self, input, target):\n",
        "        input = torch.sigmoid(input)\n",
        "        iflat = input.view(-1)\n",
        "        tflat = target.view(-1)\n",
        "        intersection = (iflat * tflat).sum()\n",
        "        return 1 - ((2. * intersection + self.smooth) /\n",
        "                    (iflat.sum() + tflat.sum() + self.smooth))\n",
        "\n",
        "def pixel_wise_accuracy(output, label):\n",
        "    output = (output > 0.5).float()\n",
        "    correct = (output == label).float().sum()\n",
        "    total = label.numel()\n",
        "    accuracy = float(correct) / float(total)\n",
        "    return accuracy\n",
        "\n",
        "def compute_pos_weight(data_loader):\n",
        "    pos_count = 0\n",
        "    neg_count = 0\n",
        "    for x1, x2, label in data_loader:\n",
        "        pos_count += torch.sum(label == 1)\n",
        "        neg_count += torch.sum(label == 0)\n",
        "    pos_weight = neg_count.float() / pos_count.float()\n",
        "    return pos_weight\n",
        "\n",
        "class ContrastiveLoss(torch.nn.Module):\n",
        "    def __init__(self, margin=2.0):\n",
        "        super(ContrastiveLoss, self).__init__()\n",
        "        self.margin = margin\n",
        "\n",
        "    def forward(self, euclidean_distance, label):\n",
        "        loss_contrastive = torch.mean((1 - label) * torch.pow(euclidean_distance, 2) +\n",
        "                                      (label) * torch.pow(torch.clamp(self.margin - euclidean_distance, min=0.0), 2))\n",
        "\n",
        "        return loss_contrastive\n",
        "\n",
        "class IoULoss(nn.Module):\n",
        "    def __init__(self):\n",
        "        super(IoULoss, self).__init__()\n",
        "        \n",
        "    def forward(self, output, target):\n",
        "        intersection = torch.sum(output * target)\n",
        "        union = torch.sum(output) + torch.sum(target) - intersection\n",
        "        iou = 1.0 - (intersection + 1.0) / (union + 1.0)\n",
        "        return iou\n",
        "\n",
        "class WeightedBinaryCrossEntropyLoss(nn.Module):\n",
        "    def __init__(self, pos_weight):\n",
        "        super(WeightedBinaryCrossEntropyLoss, self).__init__()\n",
        "        self.pos_weight = pos_weight\n",
        "        \n",
        "    def forward(self, output, target):\n",
        "        loss = F.binary_cross_entropy_with_logits(output, target, pos_weight=self.pos_weight)\n",
        "        return loss\n",
        "\n",
        "def iou_accuracy(output, target):\n",
        "    output = output.argmax(dim=1).float()  # Convert output to binary mask\n",
        "    intersection = (output * target).sum()\n",
        "    union = (output + target).sum() - intersection\n",
        "    iou = (intersection + 1e-6) / (union + 1e-6)  # Add a small epsilon to avoid division by zero\n",
        "    return np.abs(iou.item())\n",
        "\n",
        "class PixelWiseBinaryCrossEntropyLoss(nn.Module):\n",
        "    def __init__(self):\n",
        "        super(PixelWiseBinaryCrossEntropyLoss, self).__init__()\n",
        "        \n",
        "    def forward(self, output, label):\n",
        "        loss = F.binary_cross_entropy(output, label, reduction='mean')\n",
        "        return loss\n",
        "    \n",
        "def train(model, device, train_loader, valid_loader, epochs=1):\n",
        "\n",
        "    \"\"\"This function trains the CNN model, loops through the training data for a set number of epochs, \n",
        "    calculates predictions and loss, updates gradients and model parameters, prints loss in Tensorboard, saves the model every few epochs,\n",
        "    and returns the trained CNN model.\n",
        "\n",
        "    Args:\n",
        "        model (Model): CNN model \n",
        "        device (device): Whether we are working on GPU or CPU\n",
        "        train_loader (DataLoader): Training data\n",
        "        valid_loader (DataLoader): Validation data\n",
        "        epochs (int): Number of times we loop through training data to improve our model parameters\n",
        "\n",
        "    Returns:    \n",
        "        model (Model): Trained CNN model\n",
        "    \"\"\"\n",
        "     # Early stopping\n",
        "    early_stopping = EarlyStopping(patience=9)\n",
        "    last_loss = np.inf\n",
        "    running_corrects = 0\n",
        "    # start = time.time()\n",
        "    ct = datetime.datetime.now()\n",
        "            \n",
        "\n",
        "    optimiser = torch.optim.Adam(model.parameters(), lr=3e-4)\n",
        "    # exp_lr_scheduler = torch.optim.lr_scheduler.StepLR(optimiser, step_size=2, gamma=0.6)\n",
        "    # weight decay adds penalty to loss function, shrinks weights during backpropagation to prevent overfitting and exploding gradients\n",
        "    batch_idx = 0\n",
        "    total = 0 \n",
        "    prev_val_acc = 0\n",
        "    pos_weight = compute_pos_weight(train_loader)\n",
        "    criterion = ContrastiveLoss()\n",
        "\n",
        "    for epoch in range(epochs+1):\n",
        "        print('\\n')\n",
        "        progress_bar = tqdm(enumerate(train_loader), total=len(train_loader))\n",
        "        hist_acc = [] \n",
        "        model.train()\n",
        "        for _, (image1, image2, labels) in progress_bar:\n",
        "            image1, image2, labels = image1.to(device), image2.to(device), labels.to(device)\n",
        "            \n",
        "        \n",
        "            output = model(image1, image2)\n",
        "            # zero the parameter gradients\n",
        "\n",
        "            optimiser.zero_grad()\n",
        "\n",
        "            # output = output.unsqueeze(0).resize(20, 1, 256, 256)\n",
        "            labels = labels.unsqueeze(0).resize(32, 1, 256, 256)\n",
        "            loss = criterion(output.float(), labels.float())\n",
        "            # loss = contrastive_loss(output1, output2, labels, margin=1.0)\n",
        "            loss.backward()\n",
        "\n",
        "            # backward + optimize only if in training phase\n",
        "            optimiser.step()\n",
        "          \n",
        "\n",
        "            batch_idx += 1\n",
        "            acc = iou_accuracy(output, labels)\n",
        "            # acc = pixel_wise_accuracy(output, labels)\n",
        "            hist_acc.append(acc)\n",
        "            progress_bar.set_description(f\"Epoch = {epoch}/{epochs}. acc = {round(float(acc), 2)}. mean_train_acc = {round(np.mean(hist_acc), 2)}. Loss = {round(float(loss), 2)}\")\n",
        "\n",
        "\n",
        "\n",
        "        # exp_lr_scheduler.step()\n",
        "        # Early stopping\n",
        "        validation_loss_per_epoch, val_acc = validation(model, device, valid_loader, criterion) \n",
        "\n",
        "        early_stopping(last_loss, validation_loss_per_epoch)\n",
        "        last_loss = validation_loss_per_epoch\n",
        "\n",
        "                \n",
        "\n",
        "        if early_stopping.early_stop:\n",
        "            print(\"Early stopping invoked! We are at epoch:\", epoch)\n",
        "            torch.save(model, 'SM_LEVIR_model.pth')\n",
        "            return model\n",
        "\n",
        "    # torch.save(model.state_dict(), 'model_cnn')\n",
        "    torch.save(model, 'SM_LEVIR_model.pth') # save the final model as well for comparison \n",
        "    print('End of epochs reached with best model saved in final_models')\n",
        "    return model\n",
        "        "
      ],
      "metadata": {
        "id": "FdLkuor6gAfb"
      },
      "execution_count": 16,
      "outputs": []
    },
    {
      "cell_type": "code",
      "source": [
        "from torch import nn\n",
        "from torch.nn.modules.padding import ReplicationPad2d\n",
        "\n",
        "model = SiameseNetwork()\n",
        "# model = Classifier(3, 1)\n",
        "device = torch.device('cuda' if torch.cuda.is_available() else 'cpu')\n",
        "model.to(device)\n",
        "\n",
        "model_cnn = train(model, device, train_data, valid_data, epochs=10)"
      ],
      "metadata": {
        "colab": {
          "base_uri": "https://localhost:8080/"
        },
        "id": "4wRxrpc1IhJX",
        "outputId": "0646d724-10a7-4e3e-eea9-b7574a0f4eec"
      },
      "execution_count": 17,
      "outputs": [
        {
          "output_type": "stream",
          "name": "stderr",
          "text": [
            "/usr/local/lib/python3.9/dist-packages/torchvision/models/_utils.py:208: UserWarning: The parameter 'pretrained' is deprecated since 0.13 and may be removed in the future, please use 'weights' instead.\n",
            "  warnings.warn(\n",
            "/usr/local/lib/python3.9/dist-packages/torchvision/models/_utils.py:223: UserWarning: Arguments other than a weight enum or `None` for 'weights' are deprecated since 0.13 and may be removed in the future. The current behavior is equivalent to passing `weights=GoogLeNet_Weights.IMAGENET1K_V1`. You can also use `weights=GoogLeNet_Weights.DEFAULT` to get the most up-to-date weights.\n",
            "  warnings.warn(msg)\n"
          ]
        },
        {
          "output_type": "stream",
          "name": "stdout",
          "text": [
            "\n",
            "\n"
          ]
        },
        {
          "output_type": "stream",
          "name": "stderr",
          "text": [
            "\r  0%|          | 0/13 [00:00<?, ?it/s]/usr/local/lib/python3.9/dist-packages/torch/_tensor.py:761: UserWarning: non-inplace resize is deprecated\n",
            "  warnings.warn(\"non-inplace resize is deprecated\")\n",
            "Epoch = 0/10. acc = 0.0. mean_train_acc = 0.0. Loss = 1.53: 100%|██████████| 13/13 [01:31<00:00,  7.02s/it]\n"
          ]
        },
        {
          "output_type": "stream",
          "name": "stdout",
          "text": [
            "\n",
            "\n"
          ]
        },
        {
          "output_type": "stream",
          "name": "stderr",
          "text": [
            "Validation metrics: acc = 0.0. mean_val_acc = 0.0. mean_val_loss = 1.22: 100%|██████████| 4/4 [02:30<00:00, 37.56s/it]\n"
          ]
        },
        {
          "output_type": "stream",
          "name": "stdout",
          "text": [
            "\n",
            "\n"
          ]
        },
        {
          "output_type": "stream",
          "name": "stderr",
          "text": [
            "Epoch = 1/10. acc = 0.0. mean_train_acc = 0.0. Loss = 1.07: 100%|██████████| 13/13 [00:43<00:00,  3.31s/it]\n"
          ]
        },
        {
          "output_type": "stream",
          "name": "stdout",
          "text": [
            "\n",
            "\n"
          ]
        },
        {
          "output_type": "stream",
          "name": "stderr",
          "text": [
            "Validation metrics: acc = 0.0. mean_val_acc = 0.0. mean_val_loss = 1.04: 100%|██████████| 4/4 [00:00<00:00,  4.04it/s]\n"
          ]
        },
        {
          "output_type": "stream",
          "name": "stdout",
          "text": [
            "\n",
            "\n"
          ]
        },
        {
          "output_type": "stream",
          "name": "stderr",
          "text": [
            "Epoch = 2/10. acc = 0.0. mean_train_acc = 0.0. Loss = 1.01: 100%|██████████| 13/13 [00:37<00:00,  2.89s/it]\n"
          ]
        },
        {
          "output_type": "stream",
          "name": "stdout",
          "text": [
            "\n",
            "\n"
          ]
        },
        {
          "output_type": "stream",
          "name": "stderr",
          "text": [
            "Validation metrics: acc = 0.0. mean_val_acc = 0.0. mean_val_loss = 1.02: 100%|██████████| 4/4 [00:00<00:00,  4.07it/s]\n"
          ]
        },
        {
          "output_type": "stream",
          "name": "stdout",
          "text": [
            "\n",
            "\n"
          ]
        },
        {
          "output_type": "stream",
          "name": "stderr",
          "text": [
            "Epoch = 3/10. acc = 0.0. mean_train_acc = 0.0. Loss = 1.01: 100%|██████████| 13/13 [00:37<00:00,  2.88s/it]\n"
          ]
        },
        {
          "output_type": "stream",
          "name": "stdout",
          "text": [
            "\n",
            "\n"
          ]
        },
        {
          "output_type": "stream",
          "name": "stderr",
          "text": [
            "Validation metrics: acc = 0.0. mean_val_acc = 0.0. mean_val_loss = 1.01: 100%|██████████| 4/4 [00:00<00:00,  4.04it/s]\n"
          ]
        },
        {
          "output_type": "stream",
          "name": "stdout",
          "text": [
            "\n",
            "\n"
          ]
        },
        {
          "output_type": "stream",
          "name": "stderr",
          "text": [
            "Epoch = 4/10. acc = 0.0. mean_train_acc = 0.0. Loss = 1.0: 100%|██████████| 13/13 [00:37<00:00,  2.88s/it]\n"
          ]
        },
        {
          "output_type": "stream",
          "name": "stdout",
          "text": [
            "\n",
            "\n"
          ]
        },
        {
          "output_type": "stream",
          "name": "stderr",
          "text": [
            "Validation metrics: acc = 0.0. mean_val_acc = 0.0. mean_val_loss = 1.01: 100%|██████████| 4/4 [00:01<00:00,  3.93it/s]\n"
          ]
        },
        {
          "output_type": "stream",
          "name": "stdout",
          "text": [
            "\n",
            "\n"
          ]
        },
        {
          "output_type": "stream",
          "name": "stderr",
          "text": [
            "Epoch = 5/10. acc = 0.0. mean_train_acc = 0.0. Loss = 0.99: 100%|██████████| 13/13 [00:37<00:00,  2.88s/it]\n"
          ]
        },
        {
          "output_type": "stream",
          "name": "stdout",
          "text": [
            "\n",
            "\n"
          ]
        },
        {
          "output_type": "stream",
          "name": "stderr",
          "text": [
            "Validation metrics: acc = 0.0. mean_val_acc = 0.0. mean_val_loss = 1.01: 100%|██████████| 4/4 [00:01<00:00,  3.63it/s]\n"
          ]
        },
        {
          "output_type": "stream",
          "name": "stdout",
          "text": [
            "\n",
            "\n"
          ]
        },
        {
          "output_type": "stream",
          "name": "stderr",
          "text": [
            "Epoch = 6/10. acc = 0.0. mean_train_acc = 0.0. Loss = 0.99: 100%|██████████| 13/13 [00:37<00:00,  2.88s/it]\n"
          ]
        },
        {
          "output_type": "stream",
          "name": "stdout",
          "text": [
            "\n",
            "\n"
          ]
        },
        {
          "output_type": "stream",
          "name": "stderr",
          "text": [
            "Validation metrics: acc = 0.0. mean_val_acc = 0.0. mean_val_loss = 1.01: 100%|██████████| 4/4 [00:01<00:00,  3.99it/s]\n"
          ]
        },
        {
          "output_type": "stream",
          "name": "stdout",
          "text": [
            "\n",
            "\n"
          ]
        },
        {
          "output_type": "stream",
          "name": "stderr",
          "text": [
            "Epoch = 7/10. acc = 0.0. mean_train_acc = 0.0. Loss = 0.99: 100%|██████████| 13/13 [00:37<00:00,  2.88s/it]\n"
          ]
        },
        {
          "output_type": "stream",
          "name": "stdout",
          "text": [
            "\n",
            "\n"
          ]
        },
        {
          "output_type": "stream",
          "name": "stderr",
          "text": [
            "Validation metrics: acc = 0.0. mean_val_acc = 0.0. mean_val_loss = 1.01: 100%|██████████| 4/4 [00:00<00:00,  4.04it/s]\n"
          ]
        },
        {
          "output_type": "stream",
          "name": "stdout",
          "text": [
            "\n",
            "\n"
          ]
        },
        {
          "output_type": "stream",
          "name": "stderr",
          "text": [
            "Epoch = 8/10. acc = 0.0. mean_train_acc = 0.0. Loss = 0.99: 100%|██████████| 13/13 [00:37<00:00,  2.88s/it]\n"
          ]
        },
        {
          "output_type": "stream",
          "name": "stdout",
          "text": [
            "\n",
            "\n"
          ]
        },
        {
          "output_type": "stream",
          "name": "stderr",
          "text": [
            "Validation metrics: acc = 0.0. mean_val_acc = 0.0. mean_val_loss = 1.02: 100%|██████████| 4/4 [00:00<00:00,  4.03it/s]\n"
          ]
        },
        {
          "output_type": "stream",
          "name": "stdout",
          "text": [
            "\n",
            "\n"
          ]
        },
        {
          "output_type": "stream",
          "name": "stderr",
          "text": [
            "Epoch = 9/10. acc = 0.0. mean_train_acc = 0.0. Loss = 0.99: 100%|██████████| 13/13 [00:37<00:00,  2.88s/it]\n"
          ]
        },
        {
          "output_type": "stream",
          "name": "stdout",
          "text": [
            "\n",
            "\n"
          ]
        },
        {
          "output_type": "stream",
          "name": "stderr",
          "text": [
            "Validation metrics: acc = 0.0. mean_val_acc = 0.0. mean_val_loss = 1.01: 100%|██████████| 4/4 [00:00<00:00,  4.03it/s]\n"
          ]
        },
        {
          "output_type": "stream",
          "name": "stdout",
          "text": [
            "\n",
            "\n"
          ]
        },
        {
          "output_type": "stream",
          "name": "stderr",
          "text": [
            "Epoch = 10/10. acc = 0.0. mean_train_acc = 0.0. Loss = 0.96: 100%|██████████| 13/13 [00:37<00:00,  2.88s/it]\n"
          ]
        },
        {
          "output_type": "stream",
          "name": "stdout",
          "text": [
            "\n",
            "\n"
          ]
        },
        {
          "output_type": "stream",
          "name": "stderr",
          "text": [
            "Validation metrics: acc = 0.0. mean_val_acc = 0.0. mean_val_loss = 1.01: 100%|██████████| 4/4 [00:00<00:00,  4.09it/s]\n"
          ]
        },
        {
          "output_type": "stream",
          "name": "stdout",
          "text": [
            "End of epochs reached with best model saved in final_models\n"
          ]
        }
      ]
    },
    {
      "cell_type": "code",
      "source": [
        "\n",
        "def iou_accuracy(output, target):\n",
        "    output = output.argmax(dim=1).float()  # Convert output to binary mask\n",
        "    intersection = (output * target).sum()\n",
        "    union = (output + target).sum() - intersection\n",
        "    iou = (intersection + 1e-6) / (union + 1e-6)  # Add a small epsilon to avoid division by zero\n",
        "    return iou.item()\n",
        "\n",
        "# Test the IoU accuracy function with random input tensors\n",
        "output = torch.randn(1, 2, 256, 256)\n",
        "target = torch.randn(1, 256, 256).round()\n",
        "iou = iou_accuracy(output, target)\n",
        "print(iou)"
      ],
      "metadata": {
        "colab": {
          "base_uri": "https://localhost:8080/"
        },
        "id": "avbndK2mHMgh",
        "outputId": "69ff1b25-646b-4123-c3e6-d5e39264a4f4"
      },
      "execution_count": 18,
      "outputs": [
        {
          "output_type": "stream",
          "name": "stdout",
          "text": [
            "-0.000578650797251612\n"
          ]
        }
      ]
    },
    {
      "cell_type": "code",
      "source": [
        "img = Image.open(os.getcwd() + '/resized_images/val/A/' + images_valid_A[19])\n",
        "img_1 = np.array(img)\n",
        "\n",
        "\n",
        "img = Image.open(os.getcwd() + '/resized_images/val/B/' + images_valid_B[19])\n",
        "img_2 = np.array(img)\n",
        "\n",
        "img_mask = Image.open(os.getcwd() + '/resized_images/val/label/' + images_valid_mask[19])\n",
        "img_mask = np.array(img_mask)\n",
        "\n",
        "\n",
        "\n",
        "\n",
        "\n",
        "plt.imshow(img_mask)"
      ],
      "metadata": {
        "colab": {
          "base_uri": "https://localhost:8080/",
          "height": 287
        },
        "id": "pX369lTSAMWd",
        "outputId": "eb06b745-abee-4c34-f837-ca2f197901be"
      },
      "execution_count": 21,
      "outputs": [
        {
          "output_type": "execute_result",
          "data": {
            "text/plain": [
              "<matplotlib.image.AxesImage at 0x7efec3b260d0>"
            ]
          },
          "metadata": {},
          "execution_count": 21
        },
        {
          "output_type": "display_data",
          "data": {
            "text/plain": [
              "<Figure size 432x288 with 1 Axes>"
            ],
            "image/png": "[encoded data removed]"
          },
          "metadata": {
            "needs_background": "light"
          }
        }
      ]
    },
    {
      "cell_type": "code",
      "source": [
        "out = model_cnn(torch.tensor(img_1).float().to(device).resize(1, 3, 256, 256), torch.tensor(img_2).float().to(device).resize(1, 3, 256, 256))\n",
        "\n",
        "out = out.cpu().detach().numpy().squeeze(0).squeeze(0)\n",
        "plt.imshow(out)"
      ],
      "metadata": {
        "colab": {
          "base_uri": "https://localhost:8080/",
          "height": 287
        },
        "id": "4dUm8Zk8AMlB",
        "outputId": "49e4c268-186a-4b89-a24f-595bdd4c561a"
      },
      "execution_count": 26,
      "outputs": [
        {
          "output_type": "execute_result",
          "data": {
            "text/plain": [
              "<matplotlib.image.AxesImage at 0x7efebc2f9dc0>"
            ]
          },
          "metadata": {},
          "execution_count": 26
        },
        {
          "output_type": "display_data",
          "data": {
            "text/plain": [
              "<Figure size 432x288 with 1 Axes>"
            ],
            "image/png": "[encoded data removed]"
          },
          "metadata": {
            "needs_background": "light"
          }
        }
      ]
    },
    {
      "cell_type": "code",
      "source": [
        "out"
      ],
      "metadata": {
        "colab": {
          "base_uri": "https://localhost:8080/"
        },
        "id": "ZczvIK-bANDp",
        "outputId": "6d266371-b92a-4fb2-dd76-3a0a5a678f2e"
      },
      "execution_count": 23,
      "outputs": [
        {
          "output_type": "execute_result",
          "data": {
            "text/plain": [
              "array([[ True,  True,  True, ...,  True,  True, False],\n",
              "       [False, False, False, ...,  True,  True, False],\n",
              "       [False, False, False, ..., False,  True, False],\n",
              "       ...,\n",
              "       [ True, False,  True, ..., False, False, False],\n",
              "       [False,  True, False, ..., False, False,  True],\n",
              "       [False, False, False, ...,  True, False,  True]])"
            ]
          },
          "metadata": {},
          "execution_count": 23
        }
      ]
    },
    {
      "cell_type": "code",
      "source": [],
      "metadata": {
        "id": "wwQ_07fhANSA"
      },
      "execution_count": null,
      "outputs": []
    },
    {
      "cell_type": "code",
      "source": [
        "import torch.nn as nn\n",
        "\n",
        "# Define the convolutional layer\n",
        "conv = nn.Conv2d(in_channels=3, out_channels=64, kernel_size=3, stride=1, padding=1)\n",
        "\n",
        "# Test the convolutional layer with a random input tensor\n",
        "x = torch.randn(1, 3, 256, 256)\n",
        "output = conv(x)\n",
        "print(output.shape)  # should be (1, 64, 256, 256)\n"
      ],
      "metadata": {
        "colab": {
          "base_uri": "https://localhost:8080/"
        },
        "id": "JiBeHzE_9tlm",
        "outputId": "be9e04b4-4036-4cfa-ebe8-3f5a852c81fe"
      },
      "execution_count": 17,
      "outputs": [
        {
          "output_type": "stream",
          "name": "stdout",
          "text": [
            "torch.Size([1, 64, 256, 256])\n"
          ]
        }
      ]
    },
    {
      "cell_type": "code",
      "source": [
        "x = torch.randn(14, 256, 256, 3)\n",
        "y = torch.randn(14, 256, 256, 3)\n",
        "F.pairwise_distance(x, y).size()"
      ],
      "metadata": {
        "colab": {
          "base_uri": "https://localhost:8080/"
        },
        "id": "k0uBdKsqFYyH",
        "outputId": "8697861f-789d-4892-9d81-1ce37960c70f"
      },
      "execution_count": 25,
      "outputs": [
        {
          "output_type": "execute_result",
          "data": {
            "text/plain": [
              "torch.Size([14, 256, 256])"
            ]
          },
          "metadata": {},
          "execution_count": 25
        }
      ]
    },
    {
      "cell_type": "code",
      "source": [
        "import torch\n",
        "import torch.nn as nn\n",
        "import torch.nn.functional as F\n",
        "from torchvision import models\n",
        "\n",
        "# Define Siamese network architecture\n",
        "class SiameseNetwork(nn.Module):\n",
        "    def __init__(self):\n",
        "        super(SiameseNetwork, self).__init__()\n",
        "        \n",
        "        # Load pre-trained VGG16 model\n",
        "        self.vgg_model = models.vgg16(pretrained=True)\n",
        "\n",
        "        # Remove the fully connected layer\n",
        "        self.vgg_model.classifier = nn.Sequential(*list(self.vgg_model.classifier.children())[:-1])\n",
        "        \n",
        "        # Make the VGG16 model layers trainable\n",
        "        for param in self.vgg_model.parameters():\n",
        "            param.requires_grad = False\n",
        "\n",
        "        # Add a convolutional layer to reduce the number of channels to 1\n",
        "        # self.vgg_model.classifier.add_module('conv', nn.Conv2d(512, 1, kernel_size=1))\n",
        "\n",
        "\n",
        "        # Define a deconvolution layer to upsample the feature maps\n",
        "        self.deconv_layer = nn.ConvTranspose2d(in_channels=4096, out_channels=1, kernel_size=32, stride=16, padding=8)\n",
        "        self.upsample_layer = nn.ConvTranspose2d(in_channels=1, out_channels=1, kernel_size=32, stride=16, padding=8)\n",
        "\n",
        "\n",
        "    def forward(self, x1, x2):\n",
        "\n",
        "        # Extract features from the two input images using the VGG16 model\n",
        "        features1 = self.vgg_model(x1)\n",
        "        features1 = features1.view(4096, 1, 1)\n",
        "        features1 = self.upsample_layer(self.deconv_layer(features1))\n",
        "        features1 = features1.view(1, 256, 256)\n",
        "\n",
        "        features2 = self.vgg_model(x2)\n",
        "        features2 = features2.view(4096, 1, 1)\n",
        "        features2 = self.upsample_layer(self.deconv_layer(features2))\n",
        "        features2 = features2.view(1, 256, 256)\n",
        "\n",
        "        # Compute the absolute difference between the feature maps\n",
        "        diff = torch.abs(features1 - features2)\n",
        "\n",
        "        # Upsample the feature maps using deconvolution\n",
        "        # upsampled = self.deconv_layer(diff)\n",
        "\n",
        "        # Apply a sigmoid activation function to obtain a pixel-wise binary mask\n",
        "        mask = torch.sigmoid(diff)\n",
        "\n",
        "        return mask"
      ],
      "metadata": {
        "id": "oZ_z0AsSgDgX"
      },
      "execution_count": null,
      "outputs": []
    },
    {
      "cell_type": "code",
      "source": [
        "img = Image.open(os.getcwd() + '/resized_images/train/A/' + images_train_A[100])\n",
        "img_1 = np.array(img)\n",
        "\n",
        "\n",
        "img = Image.open(os.getcwd() + '/resized_images/train/B/' + images_train_B[100])\n",
        "img_2 = np.array(img)\n",
        "\n",
        "img_mask = Image.open(os.getcwd() + '/resized_images/train/label/' + images_train_mask[100])\n",
        "img_mask = np.array(img_mask)"
      ],
      "metadata": {
        "id": "1FENYJVr6maA"
      },
      "execution_count": null,
      "outputs": []
    },
    {
      "cell_type": "code",
      "source": [
        "plt.imshow(img_1)"
      ],
      "metadata": {
        "colab": {
          "base_uri": "https://localhost:8080/",
          "height": 287
        },
        "id": "GbhWRbT86qL6",
        "outputId": "1dbd571d-c40f-4a09-a785-403e2690d31e"
      },
      "execution_count": 47,
      "outputs": [
        {
          "output_type": "execute_result",
          "data": {
            "text/plain": [
              "<matplotlib.image.AxesImage at 0x7f0cdd226400>"
            ]
          },
          "metadata": {},
          "execution_count": 47
        },
        {
          "output_type": "display_data",
          "data": {
            "text/plain": [
              "<Figure size 432x288 with 1 Axes>"
            ],
            "image/png": "[encoded data removed]"
          },
          "metadata": {
            "needs_background": "light"
          }
        }
      ]
    },
    {
      "cell_type": "code",
      "source": [
        "img = torch.rand(1, 512, 104, 1)"
      ],
      "metadata": {
        "id": "iFjen8sNKtDT"
      },
      "execution_count": 20,
      "outputs": []
    },
    {
      "cell_type": "code",
      "source": [
        "import torch.nn as nn\n",
        "\n",
        "# Define a convolutional layer to downsample the input tensor\n",
        "upsample_layer = nn.ConvTranspose2d(in_channels=1, out_channels=1, kernel_size=5, stride=7, padding=1, output_padding=1)\n",
        "\n",
        "# Define the input tensor\n",
        "input_tensor = torch.rand(1, 1, 512, 40)\n",
        "\n",
        "# Pass the input tensor through the convolutional layer\n",
        "output_tensor = upsample_layer(input_tensor)\n",
        "\n",
        "# Trim the output tensor to the desired size\n",
        "output_tensor = output_tensor[:, :, :256, :256]\n",
        "# Verify that the output tensor has the correct shape\n",
        "print(output_tensor.shape)  # (1, 1, 256, 256)\n"
      ],
      "metadata": {
        "colab": {
          "base_uri": "https://localhost:8080/"
        },
        "id": "JaiQUEPKKtmR",
        "outputId": "835a1865-fdc7-4476-fbdb-795dc088101a"
      },
      "execution_count": 55,
      "outputs": [
        {
          "output_type": "stream",
          "name": "stdout",
          "text": [
            "torch.Size([1, 1, 256, 256])\n"
          ]
        }
      ]
    },
    {
      "cell_type": "code",
      "source": [
        "import torch.nn as nn\n",
        "import torch.utils.model_zoo as model_zoo\n",
        "\n",
        "# Define the pre-trained model to use\n",
        "model = models.vgg16(pretrained=True)\n",
        "\n",
        "# Remove the final fully-connected layer\n",
        "modules = list(model.classifier.children())[:-1]\n",
        "model.classifier = nn.Sequential(*modules)\n",
        "\n",
        "class Reshape(nn.Module):\n",
        "    def __init__(self, *shape):\n",
        "        super(Reshape, self).__init__()\n",
        "        self.shape = shape\n",
        "\n",
        "    def forward(self, x):\n",
        "        return x.view(x.shape[0], *self.shape)\n",
        "\n",
        "# Add a new fully connected layer to produce the desired output size\n",
        "model.classifier.add_module('final_fc', nn.Linear(4096, 256 * 256))\n",
        "\n",
        "# Reshape the output of the fully connected layer to the desired shape\n",
        "model.classifier.add_module('reshape', Reshape(1, 256, 256))\n",
        "\n",
        "# Test the modified model with a random input tensor\n",
        "x = torch.randn(1, 3, 256, 256)\n",
        "output = model(x)\n",
        "print(output.shape)  # should be (1, 1, 256, 256)\n",
        "\n"
      ],
      "metadata": {
        "colab": {
          "base_uri": "https://localhost:8080/"
        },
        "id": "3crgzkEEKtqf",
        "outputId": "d563996d-e74f-4338-e917-396258ca86fd"
      },
      "execution_count": 73,
      "outputs": [
        {
          "output_type": "stream",
          "name": "stdout",
          "text": [
            "torch.Size([10, 1, 256, 256])\n"
          ]
        }
      ]
    },
    {
      "cell_type": "code",
      "source": [
        "class SiameseNetwork(nn.Module):\n",
        "    def __init__(self, base_model):\n",
        "        super(SiameseNetwork, self).__init__()\n",
        "        self.base_model = base_model\n",
        "        self.fc = nn.Linear(1024, 1)\n",
        "\n",
        "    def forward_once(self, x):\n",
        "        x = self.base_model(x)\n",
        "        x = x.view(x.size()[0], -1)\n",
        "        x = self.fc(x)\n",
        "        return x\n",
        "\n",
        "    def forward(self, input1, input2):\n",
        "        output1 = self.forward_once(input1)\n",
        "        output2 = self.forward_once(input2)\n",
        "        return output1, output2\n",
        "\n",
        "\n",
        "base_model = models.googlenet(pretrained=True)\n",
        "base_model = nn.Sequential(*list(base_model.children())[:-1])\n",
        "\n",
        "siamese_network = SiameseNetwork(base_model)\n",
        "\n",
        "class ChangeDetectionDataset(Dataset):\n",
        "    def __init__(self, image_pairs, change_masks, transform=None):\n",
        "        self.image_pairs = image_pairs\n",
        "        self.change_masks = change_masks\n",
        "        self.transform = transform\n",
        "\n",
        "    def __len__(self):\n",
        "        return len(self.image_pairs)\n",
        "\n",
        "    def __getitem__(self, idx):\n",
        "        img1, img2 = self.image_pairs[idx]\n",
        "        change_mask = self.change_masks[idx]\n",
        "\n",
        "        if self.transform:\n",
        "            img1 = self.transform(img1)\n",
        "            img2 = self.transform(img2)\n",
        "\n",
        "        return img1, img2, change_mask\n",
        "\n",
        "# Set up dataset and data loader\n",
        "transform = transforms.Compose([\n",
        "    transforms.Resize((224, 224)),\n",
        "    transforms.ToTensor(),\n",
        "    transforms.Normalize(mean=[0.485, 0.456, 0.406], std=[0.229, 0.224, 0.225])\n",
        "])\n",
        "\n",
        "train_dataset = ChangeDetectionDataset(image_pairs, change_masks, transform=transform)\n",
        "train_loader = DataLoader(train_dataset, batch_size=32, shuffle=True, num_workers=4)\n",
        "\n",
        "# Set up the optimizer and loss function\n",
        "optimizer = optim.Adam(siamese_network.parameters(), lr=1e-4)\n",
        "criterion = ContrastiveLoss()\n",
        "\n",
        "# Set up the device\n",
        "device = torch.device(\"cuda:0\" if torch.cuda.is_available() else \"\n",
        "\n"
      ],
      "metadata": {
        "id": "BiY-FebZKtsK"
      },
      "execution_count": 23,
      "outputs": []
    },
    {
      "cell_type": "code",
      "source": [],
      "metadata": {
        "id": "EEjNBGNdKtux"
      },
      "execution_count": null,
      "outputs": []
    },
    {
      "cell_type": "code",
      "source": [
        "class CustomClassifier(nn.Sequential):\n",
        "    def __init__(self, in_channels, out_channels):\n",
        "        super().__init__(\n",
        "            nn.Conv2d(in_channels, out_channels, kernel_size=1, stride=1),\n",
        "            nn.Upsample(size=(256, 256), mode='bilinear', align_corners=True)\n",
        "        )\n",
        "\n",
        "class SimpleDecoder(nn.Module):\n",
        "    def __init__(self, in_channels, out_channels, upsample_scale):\n",
        "        super(SimpleDecoder, self).__init__()\n",
        "        self.up = nn.Upsample(scale_factor=upsample_scale, mode='bilinear', align_corners=True)\n",
        "        self.conv = nn.Conv2d(in_channels, out_channels, kernel_size=1)\n",
        "\n",
        "    def forward(self, x):\n",
        "        x = self.up(x)\n",
        "        x = self.conv(x)\n",
        "        return x\n",
        "        \n",
        "# Define Siamese network architecture\n",
        "class SiameseNetwork(nn.Module):\n",
        "    def __init__(self):\n",
        "        super(SiameseNetwork, self).__init__()\n",
        "\n",
        "        # # Load the pre-trained ResNet50 model\n",
        "        # self.resnet = models.resnet50(pretrained=True)\n",
        "\n",
        "        # # Replace the fully connected layer with a new layer with the appropriate number of output channels\n",
        "        # self.resnet.fc = nn.Linear(resnet.fc.in_features, 256 * 256)\n",
        "\n",
        "\n",
        "        # Load the pre-trained DenseNet model\n",
        "        # self.densenet = models.densenet121(pretrained=True)\n",
        "\n",
        "\n",
        "        self.base_model = models.googlenet(pretrained=True)\n",
        "        binary_classifier = CustomClassifier(in_channels=1024, out_channels=1)\n",
        "        self.base_model = nn.Sequential(*list(self.base_model.children())[:-1])\n",
        "        self.base_model.classifier = binary_classifier\n",
        "      \n",
        "\n",
        "\n",
        "        \n",
        "        # self.decoder = nn.Sequential(\n",
        "        #     UNetDecoder(2048, 1024),\n",
        "        #     UNetDecoder(1024, 512),\n",
        "        #     UNetDecoder(512, 256),\n",
        "        #     UNetDecoder(256, 128),\n",
        "        #     nn.Conv2d(128, 1, 1)\n",
        "        # )\n",
        "\n",
        "        self.decoder1 = UNetDecoder(2, 512)\n",
        "        self.decoder2 = UNetDecoder(1024, 256)\n",
        "        self.decoder3 = UNetDecoder(512, 128)\n",
        "        self.decoder4 = UNetDecoder(256, 64)\n",
        "        self.final_conv = nn.Conv2d(64, 1, kernel_size=1)\n",
        "\n",
        "\n",
        "        # self.deeplab = models.segmentation.deeplabv3_resnet50(pretrained=True, progress=True, num_classes=21)\n",
        "        # binary_classifier = CustomClassifier(in_channels=2048, out_channels=1)\n",
        "        # self.deeplab.classifier = binary_classifier\n",
        "\n",
        "        # self.deeplab = models.segmentation.DeepLabV3(models.resnet.resnet50(pretrained=True), self.deeplab.classifier)\n",
        "        # self.conv = nn.Conv2d(21, 1, kernel_size=1, stride=1)\n",
        "        self.upsample = nn.Upsample(size=(256, 256), mode='bilinear', align_corners=True)\n",
        "\n",
        "        # self.batch_norm = nn.BatchNorm2d(num_features=1)\n",
        "\n",
        "\n",
        "        # # Remove the fully connected layer from the model\n",
        "        # modules = list(self.densenet.children())[:-1]\n",
        "        # self.densenet = nn.Sequential(*modules)\n",
        "\n",
        "        # # Add additional layers to transform the output tensor to an image\n",
        "        # self.densenet.add_module('flatten', nn.Flatten())\n",
        "            \n",
        "        # # # Load pre-trained VGG16 model\n",
        "        # # self.vgg_model = models.vgg16(pretrained=True)\n",
        "\n",
        "        # # Remove the fully connected layer\n",
        "        # # self.vgg_model.classifier = nn.Sequential(*list(self.vgg_model.classifier.children())[:-1])\n",
        "        # # self.vgg_model.classifier.add_module('final_fc', nn.Linear(4096, 256 * 256))\n",
        "        \n",
        "        # # Make the VGG16 model layers trainable\n",
        "        # for param in self.densenet.parameters():\n",
        "        #     param.requires_grad = False\n",
        "\n",
        "        # self.conv = nn.Conv2d(in_channels=1, out_channels=1, kernel_size=3, stride=1, padding=1)\n",
        "        # self.relu = nn.ReLU()\n",
        "        # self.leaky_relu = nn.LeakyReLU(negative_slope=0.1)\n",
        "        self.dropout = nn.Dropout(p=0.3)\n",
        "        self.sigmoid = nn.Sigmoid()\n",
        "\n",
        "        # Add a convolutional layer to reduce the number of channels to 1\n",
        "        # self.vgg_model.classifier.add_module('conv', nn.Conv2d(512, 1, kernel_size=1))\n",
        "\n",
        "\n",
        "        # Define a deconvolution layer to upsample the feature maps\n",
        "        # self.deconv_layer = nn.ConvTranspose2d(in_channels=4096, out_channels=1, kernel_size=32, stride=16, padding=8)\n",
        "        # self.upsample_layer = nn.ConvTranspose2d(in_channels=1, out_channels=1, kernel_size=5, stride=7, padding=1, output_padding=1)\n",
        "\n",
        "\n",
        "\n",
        "    def forward(self, x1, x2):\n",
        "\n",
        "        # features1 = self.deeplab(x1)['out']\n",
        "        # features1 = self.batch_norm(self.conv(features1))\n",
        "        # features1 = self.upsample(features1).view(features1.shape[0], 1, 256, 256)\n",
        "        # features1 = self.relu(self.dropout(features1))\n",
        "\n",
        "\n",
        "\n",
        "        # features2 = self.deeplab(x2)['out']\n",
        "        # features2 = self.batch_norm(self.conv(features2))\n",
        "        # features2 = self.upsample(features2).view(features2.shape[0], 1, 256, 256)\n",
        "        # features2 = self.relu(self.dropout(features2))\n",
        "\n",
        "        # Extract features from the two input images using the VGG16 model\n",
        "        # features1 = self.densenet(x1)\n",
        "        # features1 = self.relu(self.conv(features1.view(x1.shape[0], 1, 256, 256)))\n",
        "        # features1 = self.leaky_relu(self.conv(features1.view(x1.shape[0], 1, 256, 256)))\n",
        "\n",
        "      \n",
        "        # features1 = self.upsample_layer(features1)\n",
        "        # features1 = features1[:, :256, :256]\n",
        "\n",
        "        # features1 = features1.view(1, 256, 256)\n",
        "        # features1 = upsample_layer(features1)\n",
        "        # features1 = features1.view(1, 256, 256)\n",
        "        # features1 = self.upsample_layer(self.deconv_layer(features1))\n",
        "        # features1 = features1.view(1, 256, 256)\n",
        "\n",
        "        # features2 = self.densenet(x2)\n",
        "        # features2 = features2.view(1, 512, 40)\n",
        "        # upsample_layer = nn.ConvTranspose2d(in_channels=1, out_channels=1, kernel_size=2, stride=3, padding=1, output_padding=1)\n",
        "        # features2 = self.upsample_layer(features2)\n",
        "        # features2 = features2[:, :256, :256]\n",
        "        \n",
        "        # features2 = self.relu(self.conv(features2.view(x2.shape[0], 1, 256, 256)))\n",
        "        # features2 = self.leaky_relu(self.conv(features2.view(x2.shape[0], 1, 256, 256)))\n",
        "          # features2 = upsample_layer(features2)\n",
        "        # features2 = features2.view(1, 256, 256)\n",
        "          \n",
        "        # features2 = self.upsample_layer(self.deconv_layer(features2))\n",
        "        # features2 = features2.view(1, 256, 256)\n",
        "\n",
        "        # Compute the absolute difference between the feature maps\n",
        "\n",
        "        features1 = self.base_model(x1)\n",
        "        features2 = self.upsample(self.base_model(x2))\n",
        "\n",
        "        x = torch.cat([features1, features2], dim=1)\n",
        "        \n",
        "        x = self.decoder1(x, features1)\n",
        "        x = self.decoder2(x, features2)\n",
        "        x = self.decoder3(x, features1)\n",
        "        x = self.decoder4(x, features2)\n",
        "        \n",
        "        x = self.final_conv(x)\n",
        "        # diff = torch.abs(features1 - features2)\n",
        "\n",
        "        # Upsample the feature maps using deconvolution\n",
        "        # upsampled = self.deconv_layer(diff)\n",
        "\n",
        "        # Apply a sigmoid activation function to obtain a pixel-wise binary mask\n",
        "        # features1 = features1.view(features1.size()[0], 256, 256, 1)\n",
        "        # features2 = features2.view(features2.size()[0], 256, 256, 1)\n",
        "        # diff = F.pairwise_distance(features1, features2)\n",
        "        mask = self.sigmoid(x)\n",
        "\n",
        "        return mask"
      ],
      "metadata": {
        "id": "4BFU-y_gNEKy"
      },
      "execution_count": 35,
      "outputs": []
    },
    {
      "cell_type": "code",
      "source": [
        "model = models.googlenet(pretrained=True)\n",
        "model(torch.randn(14, 3, 256, 256)).size()"
      ],
      "metadata": {
        "colab": {
          "base_uri": "https://localhost:8080/"
        },
        "id": "LxtEwnqNUa20",
        "outputId": "a562cde2-ef4b-4404-9fcc-405959807274"
      },
      "execution_count": 26,
      "outputs": [
        {
          "output_type": "execute_result",
          "data": {
            "text/plain": [
              "torch.Size([14, 1000])"
            ]
          },
          "metadata": {},
          "execution_count": 26
        }
      ]
    },
    {
      "cell_type": "code",
      "source": [
        "model = SiameseNetwork()\n",
        "x = torch.randn(14, 3, 256, 256)\n",
        "y = torch.randn(14, 3, 256, 256)\n",
        "model(x, y).size()"
      ],
      "metadata": {
        "id": "577ZwY6lNEsh"
      },
      "execution_count": null,
      "outputs": []
    },
    {
      "cell_type": "code",
      "source": [],
      "metadata": {
        "id": "hFaYeLG3NEx-"
      },
      "execution_count": null,
      "outputs": []
    },
    {
      "cell_type": "code",
      "source": [],
      "metadata": {
        "id": "yrpQjOk7NEz9"
      },
      "execution_count": null,
      "outputs": []
    },
    {
      "cell_type": "code",
      "source": [],
      "metadata": {
        "id": "suBHAa-ONE3C"
      },
      "execution_count": null,
      "outputs": []
    },
    {
      "cell_type": "code",
      "source": [],
      "metadata": {
        "id": "mEl8L9dRNE6W"
      },
      "execution_count": null,
      "outputs": []
    },
    {
      "cell_type": "code",
      "source": [
        "torch.tensor(img_1).unsqueeze(0).resize(1, 3, 256, 256)"
      ],
      "metadata": {
        "colab": {
          "base_uri": "https://localhost:8080/"
        },
        "id": "HYyJnav_8lJO",
        "outputId": "53d0f753-49df-4590-d875-5d27a5c6aad4"
      },
      "execution_count": 28,
      "outputs": [
        {
          "output_type": "stream",
          "name": "stderr",
          "text": [
            "/usr/local/lib/python3.9/dist-packages/torch/_tensor.py:761: UserWarning: non-inplace resize is deprecated\n",
            "  warnings.warn(\"non-inplace resize is deprecated\")\n"
          ]
        },
        {
          "output_type": "execute_result",
          "data": {
            "text/plain": [
              "tensor([[[[  4,  17,  13,  ...,   7,   6,   8],\n",
              "          [ 18,  21,  33,  ...,  25,  13,  26],\n",
              "          [ 20,  51,  70,  ...,  43,  64,  57],\n",
              "          ...,\n",
              "          [ 39,  28,  18,  ...,  51,  77,  86],\n",
              "          [ 73,  57,  72,  ...,  26,  42,  44],\n",
              "          [ 16,  41,  29,  ...,  38,  23,  36]],\n",
              "\n",
              "         [[ 60,  49,  36,  ...,  44,  47,  53],\n",
              "          [ 37,  68,  84,  ...,  28,  39,  31],\n",
              "          [ 10,  35,  23,  ...,  36,  28,  13],\n",
              "          ...,\n",
              "          [100,  52,  74,  ...,  79,  95,  69],\n",
              "          [ 15,  41,  35,  ...,  50,  43, 122],\n",
              "          [108,  86, 125,  ...,  47, 102, 103]],\n",
              "\n",
              "         [[ 91,  84,  92,  ..., 119, 130, 102],\n",
              "          [ 46,  63,  42,  ...,   1,   6,  87],\n",
              "          [ 81,  68, 132,  ...,   4,   9,   9],\n",
              "          ...,\n",
              "          [ 41,  73,  47,  ..., 101,  88, 107],\n",
              "          [102,  84, 157,  ...,  56, 105, 109],\n",
              "          [ 87, 175, 166,  ...,  29,  56,  46]]]], dtype=torch.uint8)"
            ]
          },
          "metadata": {},
          "execution_count": 28
        }
      ]
    },
    {
      "cell_type": "code",
      "source": [
        "model = SiameseNetwork()\n",
        "output = model(torch.tensor(img_1).unsqueeze(0).float().resize(1, 3, 256, 256), torch.tensor(img_2).unsqueeze(0).float().resize(1, 3, 256, 256))"
      ],
      "metadata": {
        "colab": {
          "base_uri": "https://localhost:8080/"
        },
        "id": "xpIxS-Hk6sB3",
        "outputId": "6cd3eaa2-b1b5-44e2-c968-68755efaa490"
      },
      "execution_count": 52,
      "outputs": [
        {
          "output_type": "stream",
          "name": "stderr",
          "text": [
            "/usr/local/lib/python3.9/dist-packages/torchvision/models/_utils.py:208: UserWarning: The parameter 'pretrained' is deprecated since 0.13 and may be removed in the future, please use 'weights' instead.\n",
            "  warnings.warn(\n",
            "/usr/local/lib/python3.9/dist-packages/torchvision/models/_utils.py:223: UserWarning: Arguments other than a weight enum or `None` for 'weights' are deprecated since 0.13 and may be removed in the future. The current behavior is equivalent to passing `weights=VGG16_Weights.IMAGENET1K_V1`. You can also use `weights=VGG16_Weights.DEFAULT` to get the most up-to-date weights.\n",
            "  warnings.warn(msg)\n",
            "/usr/local/lib/python3.9/dist-packages/torch/_tensor.py:761: UserWarning: non-inplace resize is deprecated\n",
            "  warnings.warn(\"non-inplace resize is deprecated\")\n"
          ]
        }
      ]
    },
    {
      "cell_type": "code",
      "source": [
        "output.size()"
      ],
      "metadata": {
        "colab": {
          "base_uri": "https://localhost:8080/"
        },
        "id": "rkxTFFswA0rl",
        "outputId": "f77c1e39-8e80-48af-e997-72efffd3e321"
      },
      "execution_count": 53,
      "outputs": [
        {
          "output_type": "execute_result",
          "data": {
            "text/plain": [
              "torch.Size([1, 1, 256, 256])"
            ]
          },
          "metadata": {},
          "execution_count": 53
        }
      ]
    },
    {
      "cell_type": "code",
      "source": [
        "import torch\n",
        "import torch.nn as nn\n",
        "import torchvision.models as models\n",
        "\n",
        "# Load the pre-trained ResNet50 model\n",
        "resnet = models.resnet50(pretrained=True)\n",
        "\n",
        "# Replace the fully connected layer with a new layer with the appropriate number of output channels\n",
        "num_classes = 10  # Replace with the number of classes for your task\n",
        "resnet.fc = nn.Linear(resnet.fc.in_features, num_classes)\n",
        "\n",
        "# Test the modified model with a random input tensor\n",
        "x = torch.randn(1, 3, 224, 224)\n",
        "output = resnet(x)\n",
        "print(output.shape)  # should be (1, 10)\n"
      ],
      "metadata": {
        "colab": {
          "base_uri": "https://localhost:8080/"
        },
        "id": "Iq1Bm14l7J-k",
        "outputId": "599cbe9b-cf5b-4162-bddc-5aa2bbbc1446"
      },
      "execution_count": 18,
      "outputs": [
        {
          "output_type": "stream",
          "name": "stdout",
          "text": [
            "torch.Size([1, 10])\n"
          ]
        }
      ]
    },
    {
      "cell_type": "code",
      "source": [
        "print(vgg_model)"
      ],
      "metadata": {
        "colab": {
          "base_uri": "https://localhost:8080/"
        },
        "id": "lzWpsV8T-R4d",
        "outputId": "f6c59c06-3c63-4384-e159-8b2d183b866c"
      },
      "execution_count": 38,
      "outputs": [
        {
          "output_type": "stream",
          "name": "stdout",
          "text": [
            "VGG(\n",
            "  (features): Sequential(\n",
            "    (0): Conv2d(3, 64, kernel_size=(3, 3), stride=(1, 1), padding=(1, 1))\n",
            "    (1): ReLU(inplace=True)\n",
            "    (2): Conv2d(64, 64, kernel_size=(3, 3), stride=(1, 1), padding=(1, 1))\n",
            "    (3): ReLU(inplace=True)\n",
            "    (4): MaxPool2d(kernel_size=2, stride=2, padding=0, dilation=1, ceil_mode=False)\n",
            "    (5): Conv2d(64, 128, kernel_size=(3, 3), stride=(1, 1), padding=(1, 1))\n",
            "    (6): ReLU(inplace=True)\n",
            "    (7): Conv2d(128, 128, kernel_size=(3, 3), stride=(1, 1), padding=(1, 1))\n",
            "    (8): ReLU(inplace=True)\n",
            "    (9): MaxPool2d(kernel_size=2, stride=2, padding=0, dilation=1, ceil_mode=False)\n",
            "    (10): Conv2d(128, 256, kernel_size=(3, 3), stride=(1, 1), padding=(1, 1))\n",
            "    (11): ReLU(inplace=True)\n",
            "    (12): Conv2d(256, 256, kernel_size=(3, 3), stride=(1, 1), padding=(1, 1))\n",
            "    (13): ReLU(inplace=True)\n",
            "    (14): Conv2d(256, 256, kernel_size=(3, 3), stride=(1, 1), padding=(1, 1))\n",
            "    (15): ReLU(inplace=True)\n",
            "    (16): MaxPool2d(kernel_size=2, stride=2, padding=0, dilation=1, ceil_mode=False)\n",
            "    (17): Conv2d(256, 512, kernel_size=(3, 3), stride=(1, 1), padding=(1, 1))\n",
            "    (18): ReLU(inplace=True)\n",
            "    (19): Conv2d(512, 512, kernel_size=(3, 3), stride=(1, 1), padding=(1, 1))\n",
            "    (20): ReLU(inplace=True)\n",
            "    (21): Conv2d(512, 512, kernel_size=(3, 3), stride=(1, 1), padding=(1, 1))\n",
            "    (22): ReLU(inplace=True)\n",
            "    (23): MaxPool2d(kernel_size=2, stride=2, padding=0, dilation=1, ceil_mode=False)\n",
            "    (24): Conv2d(512, 512, kernel_size=(3, 3), stride=(1, 1), padding=(1, 1))\n",
            "    (25): ReLU(inplace=True)\n",
            "    (26): Conv2d(512, 512, kernel_size=(3, 3), stride=(1, 1), padding=(1, 1))\n",
            "    (27): ReLU(inplace=True)\n",
            "    (28): Conv2d(512, 512, kernel_size=(3, 3), stride=(1, 1), padding=(1, 1))\n",
            "    (29): ReLU(inplace=True)\n",
            "    (30): MaxPool2d(kernel_size=2, stride=2, padding=0, dilation=1, ceil_mode=False)\n",
            "  )\n",
            "  (avgpool): AdaptiveAvgPool2d(output_size=(7, 7))\n",
            "  (classifier): Sequential(\n",
            "    (0): Linear(in_features=25088, out_features=4096, bias=True)\n",
            "    (1): ReLU(inplace=True)\n",
            "    (2): Dropout(p=0.5, inplace=False)\n",
            "    (3): Linear(in_features=4096, out_features=4096, bias=True)\n",
            "    (4): ReLU(inplace=True)\n",
            "    (5): Dropout(p=0.5, inplace=False)\n",
            "    (conv): Conv2d(512, 1, kernel_size=(1, 1), stride=(1, 1))\n",
            "  )\n",
            ")\n"
          ]
        }
      ]
    },
    {
      "cell_type": "code",
      "source": [
        "import torch\n",
        "import torch.nn as nn\n",
        "import torchvision.models as models\n",
        "\n",
        "# Load the pre-trained DenseNet model\n",
        "densenet = models.densenet121(pretrained=True)\n",
        "\n",
        "# Remove the fully connected layer from the model\n",
        "modules = list(densenet.children())[:-1]\n",
        "densenet = nn.Sequential(*modules)\n",
        "\n",
        "# Add additional layers to transform the output tensor to an image\n",
        "densenet.add_module('flatten', nn.Flatten())\n",
        "densenet.add_module('ReLU', nn.ReLU())\n",
        "# densenet.add_module('relu', nn.ReLU())\n",
        "# densenet.add_module('conv_transpose', nn.ConvTranspose2d(64, 1, kernel_size=4, stride=2, padding=1))\n",
        "# densenet.add_module('sigmoid', nn.Sigmoid())\n",
        "\n",
        "# Test the modified model with a random input tensor\n",
        "x = torch.randn(1, 3, 256, 256)\n",
        "output = densenet(x)\n",
        "print(output.resize(1, 256, 256).size())\n"
      ],
      "metadata": {
        "colab": {
          "base_uri": "https://localhost:8080/"
        },
        "id": "YuY3WOwI-UMk",
        "outputId": "7629d173-99f0-4a29-f06a-007020f68434"
      },
      "execution_count": 6,
      "outputs": [
        {
          "output_type": "stream",
          "name": "stderr",
          "text": [
            "/usr/local/lib/python3.9/dist-packages/torchvision/models/_utils.py:208: UserWarning: The parameter 'pretrained' is deprecated since 0.13 and may be removed in the future, please use 'weights' instead.\n",
            "  warnings.warn(\n",
            "/usr/local/lib/python3.9/dist-packages/torchvision/models/_utils.py:223: UserWarning: Arguments other than a weight enum or `None` for 'weights' are deprecated since 0.13 and may be removed in the future. The current behavior is equivalent to passing `weights=DenseNet121_Weights.IMAGENET1K_V1`. You can also use `weights=DenseNet121_Weights.DEFAULT` to get the most up-to-date weights.\n",
            "  warnings.warn(msg)\n"
          ]
        },
        {
          "output_type": "stream",
          "name": "stdout",
          "text": [
            "torch.Size([1, 256, 256])\n"
          ]
        },
        {
          "output_type": "stream",
          "name": "stderr",
          "text": [
            "/usr/local/lib/python3.9/dist-packages/torch/_tensor.py:761: UserWarning: non-inplace resize is deprecated\n",
            "  warnings.warn(\"non-inplace resize is deprecated\")\n"
          ]
        }
      ]
    },
    {
      "cell_type": "code",
      "source": [
        "deeplab_backbone = models.segmentation.deeplabv3_resnet50(pretrained=True, progress=True, num_classes=21)\n",
        "class CustomClassifier(nn.Sequential):\n",
        "    def __init__(self, in_channels, out_channels):\n",
        "        super().__init__(\n",
        "            nn.Conv2d(in_channels, out_channels, kernel_size=1, stride=1),\n",
        "            nn.Upsample(size=(256, 256), mode='bilinear', align_corners=True)\n",
        "        )\n",
        "\n",
        "binary_classifier = CustomClassifier(in_channels=2048, out_channels=1)\n",
        "deeplab_backbone.classifier = binary_classifier\n"
      ],
      "metadata": {
        "colab": {
          "base_uri": "https://localhost:8080/"
        },
        "id": "ncgJL8-V-1H5",
        "outputId": "243f8d6d-ac97-4fa2-e37d-bb1f24451e2c"
      },
      "execution_count": 63,
      "outputs": [
        {
          "output_type": "stream",
          "name": "stderr",
          "text": [
            "/usr/local/lib/python3.9/dist-packages/torchvision/models/_utils.py:208: UserWarning: The parameter 'pretrained' is deprecated since 0.13 and may be removed in the future, please use 'weights' instead.\n",
            "  warnings.warn(\n",
            "/usr/local/lib/python3.9/dist-packages/torchvision/models/_utils.py:223: UserWarning: Arguments other than a weight enum or `None` for 'weights' are deprecated since 0.13 and may be removed in the future. The current behavior is equivalent to passing `weights=DeepLabV3_ResNet50_Weights.COCO_WITH_VOC_LABELS_V1`. You can also use `weights=DeepLabV3_ResNet50_Weights.DEFAULT` to get the most up-to-date weights.\n",
            "  warnings.warn(msg)\n"
          ]
        }
      ]
    },
    {
      "cell_type": "code",
      "source": [
        "deeplab_binary_model = deeplab_backbone"
      ],
      "metadata": {
        "id": "iLRxUXi0-2YU"
      },
      "execution_count": 64,
      "outputs": []
    },
    {
      "cell_type": "code",
      "source": [
        "class CustomDeepLabBinary(nn.Module):\n",
        "    def __init__(self, deeplab_model, output_size=(256, 256)):\n",
        "        super(CustomDeepLabBinary, self).__init__()\n",
        "        self.deeplab = deeplab_model\n",
        "        self.output_size = output_size\n",
        "        self.conv = nn.Conv2d(21, 1, kernel_size=1, stride=1)\n",
        "        self.upsample = nn.Upsample(size=output_size, mode='bilinear', align_corners=True)\n",
        "\n",
        "    def forward(self, x):\n",
        "        x = self.deeplab(x)\n",
        "        x = self.conv(x)\n",
        "        x = self.upsample(x)\n",
        "        return x\n"
      ],
      "metadata": {
        "id": "h26ggF0u_RTi"
      },
      "execution_count": 57,
      "outputs": []
    },
    {
      "cell_type": "code",
      "source": [
        "output_size = (256, 256)\n",
        "custom_binary_model = CustomDeepLabBinary(deeplab_model, output_size)\n"
      ],
      "metadata": {
        "id": "Rd7cKFKl9eAw"
      },
      "execution_count": 58,
      "outputs": []
    },
    {
      "cell_type": "code",
      "source": [
        "model = deeplab_binary_model(torch.randn(1, 3, 256, 256))\n"
      ],
      "metadata": {
        "id": "OR0SocUf9fRI"
      },
      "execution_count": 65,
      "outputs": []
    },
    {
      "cell_type": "code",
      "source": [
        "model['out'].size()"
      ],
      "metadata": {
        "colab": {
          "base_uri": "https://localhost:8080/"
        },
        "id": "ERL_ZC3x9hz8",
        "outputId": "350c8d4b-b4d3-4aa6-cd81-d556df804b15"
      },
      "execution_count": 72,
      "outputs": [
        {
          "output_type": "execute_result",
          "data": {
            "text/plain": [
              "torch.Size([1, 1, 256, 256])"
            ]
          },
          "metadata": {},
          "execution_count": 72
        }
      ]
    },
    {
      "cell_type": "code",
      "source": [],
      "metadata": {
        "id": "bVjdZUvd_E-O"
      },
      "execution_count": null,
      "outputs": []
    }
  ]
}